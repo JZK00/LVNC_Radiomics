{
 "cells": [
  {
   "cell_type": "code",
   "execution_count": 1,
   "metadata": {},
   "outputs": [
    {
     "name": "stderr",
     "output_type": "stream",
     "text": [
      "D:\\Python3\\lib\\site-packages\\numpy\\_distributor_init.py:32: UserWarning: loaded more than 1 DLL from .libs:\n",
      "D:\\Python3\\lib\\site-packages\\numpy\\.libs\\libopenblas.IPBC74C7KURV7CB2PKT5Z5FNR3SIBV4J.gfortran-win_amd64.dll\n",
      "D:\\Python3\\lib\\site-packages\\numpy\\.libs\\libopenblas.PYQHXLVVQ7VESDPUVUADXEVJOBGHJPAY.gfortran-win_amd64.dll\n",
      "D:\\Python3\\lib\\site-packages\\numpy\\.libs\\libopenblas.TXA6YQSD3GCQQC22GEQ54J2UDCXDXHWN.gfortran-win_amd64.dll\n",
      "  stacklevel=1)\n"
     ]
    }
   ],
   "source": [
    "import numpy as np\n",
    "from matplotlib import pyplot as plt\n",
    "import scipy.stats as st\n",
    "from sklearn import metrics\n",
    "import pandas as pd"
   ]
  },
  {
   "cell_type": "code",
   "execution_count": 2,
   "metadata": {},
   "outputs": [],
   "source": [
    "class DelongTest():\n",
    "    def __init__(self,preds1,preds2,label,threshold=0.05):\n",
    "        '''\n",
    "        preds1:the output of model1\n",
    "        preds2:the output of model2\n",
    "        label :the actual label\n",
    "        '''\n",
    "        self._preds1=preds1\n",
    "        self._preds2=preds2\n",
    "        self._label=label\n",
    "        self.threshold=threshold\n",
    "        self._show_result()\n",
    "\n",
    "    def _auc(self,X, Y)->float:\n",
    "        return 1/(len(X)*len(Y)) * sum([self._kernel(x, y) for x in X for y in Y])\n",
    "\n",
    "    def _kernel(self,X, Y)->float:\n",
    "        '''\n",
    "        Mann-Whitney statistic\n",
    "        '''\n",
    "        return .5 if Y==X else int(Y < X)\n",
    "\n",
    "    def _structural_components(self,X, Y)->list:\n",
    "        V10 = [1/len(Y) * sum([self._kernel(x, y) for y in Y]) for x in X]\n",
    "        V01 = [1/len(X) * sum([self._kernel(x, y) for x in X]) for y in Y]\n",
    "        return V10, V01\n",
    "\n",
    "    def _get_S_entry(self,V_A, V_B, auc_A, auc_B)->float:\n",
    "        return 1/(len(V_A)-1) * sum([(a-auc_A)*(b-auc_B) for a,b in zip(V_A, V_B)])\n",
    "    \n",
    "    def _z_score(self,var_A, var_B, covar_AB, auc_A, auc_B):\n",
    "        return (auc_A - auc_B)/((var_A + var_B - 2*covar_AB )**(.5)+ 1e-8)\n",
    "\n",
    "    def _group_preds_by_label(self,preds, actual)->list:\n",
    "        X = [p for (p, a) in zip(preds, actual) if a]\n",
    "        Y = [p for (p, a) in zip(preds, actual) if not a]\n",
    "        return X, Y\n",
    "\n",
    "    def _compute_z_p(self):\n",
    "        X_A, Y_A = self._group_preds_by_label(self._preds1, self._label)\n",
    "        X_B, Y_B = self._group_preds_by_label(self._preds2, self._label)\n",
    "\n",
    "        V_A10, V_A01 = self._structural_components(X_A, Y_A)\n",
    "        V_B10, V_B01 = self._structural_components(X_B, Y_B)\n",
    "\n",
    "        auc_A = self._auc(X_A, Y_A)\n",
    "        auc_B = self._auc(X_B, Y_B)\n",
    "\n",
    "        # Compute entries of covariance matrix S (covar_AB = covar_BA)\n",
    "        var_A = (self._get_S_entry(V_A10, V_A10, auc_A, auc_A) * 1/len(V_A10)+ self._get_S_entry(V_A01, V_A01, auc_A, auc_A) * 1/len(V_A01))\n",
    "        var_B = (self._get_S_entry(V_B10, V_B10, auc_B, auc_B) * 1/len(V_B10)+ self._get_S_entry(V_B01, V_B01, auc_B, auc_B) * 1/len(V_B01))\n",
    "        covar_AB = (self._get_S_entry(V_A10, V_B10, auc_A, auc_B) * 1/len(V_A10)+ self._get_S_entry(V_A01, V_B01, auc_A, auc_B) * 1/len(V_A01))\n",
    "\n",
    "        # Two tailed test\n",
    "        z = self._z_score(var_A, var_B, covar_AB, auc_A, auc_B)\n",
    "        p = st.norm.sf(abs(z))*2\n",
    "\n",
    "        return z,p\n",
    "\n",
    "    def _show_result(self):\n",
    "        z,p=self._compute_z_p()\n",
    "        print(f\"z score = {z:.5f};\\np value = {p:.5f};\")\n",
    "        if p < self.threshold :print(\"There is a significant difference\")\n",
    "        else:        print(\"There is NO significant difference\")\n"
   ]
  },
  {
   "cell_type": "code",
   "execution_count": 3,
   "metadata": {},
   "outputs": [
    {
     "name": "stdout",
     "output_type": "stream",
     "text": [
      "z score = -3.35876;\n",
      "p value = 0.00078;\n",
      "There is a significant difference\n"
     ]
    },
    {
     "data": {
      "text/plain": [
       "<__main__.DelongTest at 0x14050bd9cc0>"
      ]
     },
     "execution_count": 3,
     "metadata": {},
     "output_type": "execute_result"
    }
   ],
   "source": [
    "# for example\n",
    "# Model A (random) vs. \"good\" model B\n",
    "preds_A = np.array([.5, .5, .5, .5, .5, .5, .5, .5, .5, .5])\n",
    "preds_B = np.array([.2, .5, .1, .4, .9, .8, .7, .5, .9, .8])\n",
    "actual=    np.array([0, 0, 0, 0, 1, 0, 1, 1, 1, 1])\n",
    "DelongTest(preds_A,preds_B,actual)"
   ]
  },
  {
   "cell_type": "markdown",
   "metadata": {},
   "source": [
    "## Our predicted data"
   ]
  },
  {
   "cell_type": "code",
   "execution_count": 5,
   "metadata": {},
   "outputs": [
    {
     "name": "stdout",
     "output_type": "stream",
     "text": [
      "<class 'pandas.core.frame.DataFrame'>\n",
      "RangeIndex: 76 entries, 0 to 75\n",
      "Data columns (total 8 columns):\n",
      " #   Column     Non-Null Count  Dtype  \n",
      "---  ------     --------------  -----  \n",
      " 0   Group      76 non-null     int64  \n",
      " 1   End        76 non-null     int64  \n",
      " 2   ID         76 non-null     int64  \n",
      " 3   检查时间       76 non-null     object \n",
      " 4   Clinical   76 non-null     float64\n",
      " 5   Radiomics  76 non-null     float64\n",
      " 6   RC         76 non-null     float64\n",
      " 7   Combine    76 non-null     float64\n",
      "dtypes: float64(4), int64(3), object(1)\n",
      "memory usage: 4.9+ KB\n"
     ]
    }
   ],
   "source": [
    "df = pd.read_csv('E:/Experiments/PeilunHan/LVNC/radiomics/run-new/run-1223/Delong-train.csv',encoding='gbk')\n",
    "df.info()"
   ]
  },
  {
   "cell_type": "code",
   "execution_count": 6,
   "metadata": {},
   "outputs": [
    {
     "data": {
      "text/html": [
       "<div>\n",
       "<style scoped>\n",
       "    .dataframe tbody tr th:only-of-type {\n",
       "        vertical-align: middle;\n",
       "    }\n",
       "\n",
       "    .dataframe tbody tr th {\n",
       "        vertical-align: top;\n",
       "    }\n",
       "\n",
       "    .dataframe thead th {\n",
       "        text-align: right;\n",
       "    }\n",
       "</style>\n",
       "<table border=\"1\" class=\"dataframe\">\n",
       "  <thead>\n",
       "    <tr style=\"text-align: right;\">\n",
       "      <th></th>\n",
       "      <th>Group</th>\n",
       "      <th>End</th>\n",
       "      <th>ID</th>\n",
       "      <th>检查时间</th>\n",
       "      <th>Clinical</th>\n",
       "      <th>Radiomics</th>\n",
       "      <th>RC</th>\n",
       "      <th>Combine</th>\n",
       "    </tr>\n",
       "  </thead>\n",
       "  <tbody>\n",
       "    <tr>\n",
       "      <th>0</th>\n",
       "      <td>1</td>\n",
       "      <td>0</td>\n",
       "      <td>151</td>\n",
       "      <td>2012/1/17</td>\n",
       "      <td>0.02855</td>\n",
       "      <td>0.22703</td>\n",
       "      <td>0.07290</td>\n",
       "      <td>0.14401</td>\n",
       "    </tr>\n",
       "    <tr>\n",
       "      <th>1</th>\n",
       "      <td>1</td>\n",
       "      <td>0</td>\n",
       "      <td>23</td>\n",
       "      <td>2013/5/31</td>\n",
       "      <td>0.89371</td>\n",
       "      <td>0.11153</td>\n",
       "      <td>0.20118</td>\n",
       "      <td>0.21312</td>\n",
       "    </tr>\n",
       "    <tr>\n",
       "      <th>2</th>\n",
       "      <td>1</td>\n",
       "      <td>0</td>\n",
       "      <td>152</td>\n",
       "      <td>2013/7/5</td>\n",
       "      <td>0.93175</td>\n",
       "      <td>0.05854</td>\n",
       "      <td>0.13821</td>\n",
       "      <td>0.02796</td>\n",
       "    </tr>\n",
       "    <tr>\n",
       "      <th>3</th>\n",
       "      <td>1</td>\n",
       "      <td>1</td>\n",
       "      <td>29</td>\n",
       "      <td>2013/10/24</td>\n",
       "      <td>0.80107</td>\n",
       "      <td>0.11069</td>\n",
       "      <td>0.19213</td>\n",
       "      <td>0.03623</td>\n",
       "    </tr>\n",
       "    <tr>\n",
       "      <th>4</th>\n",
       "      <td>1</td>\n",
       "      <td>0</td>\n",
       "      <td>53</td>\n",
       "      <td>2013/11/26</td>\n",
       "      <td>0.28769</td>\n",
       "      <td>0.08967</td>\n",
       "      <td>0.07614</td>\n",
       "      <td>0.02820</td>\n",
       "    </tr>\n",
       "  </tbody>\n",
       "</table>\n",
       "</div>"
      ],
      "text/plain": [
       "   Group  End   ID        检查时间  Clinical  Radiomics       RC  Combine\n",
       "0      1    0  151   2012/1/17   0.02855    0.22703  0.07290  0.14401\n",
       "1      1    0   23   2013/5/31   0.89371    0.11153  0.20118  0.21312\n",
       "2      1    0  152    2013/7/5   0.93175    0.05854  0.13821  0.02796\n",
       "3      1    1   29  2013/10/24   0.80107    0.11069  0.19213  0.03623\n",
       "4      1    0   53  2013/11/26   0.28769    0.08967  0.07614  0.02820"
      ]
     },
     "execution_count": 6,
     "metadata": {},
     "output_type": "execute_result"
    }
   ],
   "source": [
    "df.head()"
   ]
  },
  {
   "cell_type": "code",
   "execution_count": 8,
   "metadata": {},
   "outputs": [],
   "source": [
    "X1 = df.iloc[:, 4].values\n",
    "X2 = df.iloc[:, 5].values\n",
    "X3 = df.iloc[:, 6].values\n",
    "X4 = df.iloc[:, 7].values\n",
    "y = df.iloc[:, 1].values"
   ]
  },
  {
   "cell_type": "code",
   "execution_count": 9,
   "metadata": {},
   "outputs": [
    {
     "data": {
      "text/plain": [
       "array([0, 0, 0, 1, 0, 0, 0, 1, 0, 1, 0, 0, 0, 0, 1, 0, 0, 1, 0, 0, 1, 0,\n",
       "       0, 0, 0, 0, 1, 0, 0, 0, 0, 1, 0, 0, 0, 0, 0, 1, 0, 0, 0, 0, 0, 0,\n",
       "       0, 1, 0, 0, 0, 0, 0, 1, 0, 1, 0, 0, 0, 1, 0, 0, 0, 0, 0, 0, 1, 0,\n",
       "       0, 0, 0, 0, 0, 1, 0, 0, 0, 0], dtype=int64)"
      ]
     },
     "execution_count": 9,
     "metadata": {},
     "output_type": "execute_result"
    }
   ],
   "source": [
    "y"
   ]
  },
  {
   "cell_type": "code",
   "execution_count": 10,
   "metadata": {},
   "outputs": [
    {
     "data": {
      "text/plain": [
       "array([0.02855, 0.89371, 0.93175, 0.80107, 0.28769, 0.33403, 0.02002,\n",
       "       0.89229, 0.03661, 0.16914, 0.88731, 0.0285 , 0.00836, 0.78545,\n",
       "       0.02761, 0.02854, 0.90484, 0.01225, 0.02123, 0.91783, 0.03978,\n",
       "       0.06145, 0.81069, 0.91616, 0.02853, 0.1051 , 0.02855, 0.24963,\n",
       "       0.38034, 0.91785, 0.02565, 0.04011, 0.02853, 0.47747, 0.72547,\n",
       "       0.02853, 0.03844, 0.29049, 0.02855, 0.74579, 0.9178 , 0.21388,\n",
       "       0.01114, 0.03518, 0.02855, 0.02013, 0.5204 , 0.01906, 0.07663,\n",
       "       0.02848, 0.01368, 0.11571, 0.04806, 0.79873, 0.02851, 0.5    ,\n",
       "       0.02426, 0.02421, 0.07144, 0.02852, 0.91217, 0.02851, 0.91781,\n",
       "       0.10543, 0.0195 , 0.32318, 0.8778 , 0.01979, 0.20065, 0.51308,\n",
       "       0.00995, 0.02852, 0.01926, 0.0499 , 0.01179, 0.0194 ])"
      ]
     },
     "execution_count": 10,
     "metadata": {},
     "output_type": "execute_result"
    }
   ],
   "source": [
    "X1"
   ]
  },
  {
   "cell_type": "code",
   "execution_count": 11,
   "metadata": {},
   "outputs": [
    {
     "name": "stdout",
     "output_type": "stream",
     "text": [
      "z score = -5.52600;\n",
      "p value = 0.00000;\n",
      "There is a significant difference\n"
     ]
    },
    {
     "data": {
      "text/plain": [
       "<__main__.DelongTest at 0x14050d18b70>"
      ]
     },
     "execution_count": 11,
     "metadata": {},
     "output_type": "execute_result"
    }
   ],
   "source": [
    "DelongTest(X1,X4,y)"
   ]
  },
  {
   "cell_type": "code",
   "execution_count": 12,
   "metadata": {},
   "outputs": [
    {
     "name": "stdout",
     "output_type": "stream",
     "text": [
      "z score = -5.05440;\n",
      "p value = 0.00000;\n",
      "There is a significant difference\n"
     ]
    },
    {
     "data": {
      "text/plain": [
       "<__main__.DelongTest at 0x14050d18c88>"
      ]
     },
     "execution_count": 12,
     "metadata": {},
     "output_type": "execute_result"
    }
   ],
   "source": [
    "DelongTest(X2,X4,y)"
   ]
  },
  {
   "cell_type": "code",
   "execution_count": 13,
   "metadata": {},
   "outputs": [
    {
     "name": "stdout",
     "output_type": "stream",
     "text": [
      "z score = -0.73555;\n",
      "p value = 0.46200;\n",
      "There is NO significant difference\n"
     ]
    },
    {
     "data": {
      "text/plain": [
       "<__main__.DelongTest at 0x14050d18f28>"
      ]
     },
     "execution_count": 13,
     "metadata": {},
     "output_type": "execute_result"
    }
   ],
   "source": [
    "DelongTest(X3,X4,y)"
   ]
  },
  {
   "cell_type": "code",
   "execution_count": null,
   "metadata": {},
   "outputs": [],
   "source": []
  },
  {
   "cell_type": "code",
   "execution_count": 14,
   "metadata": {},
   "outputs": [
    {
     "name": "stdout",
     "output_type": "stream",
     "text": [
      "z score = -5.89149;\n",
      "p value = 0.00000;\n",
      "There is a significant difference\n"
     ]
    },
    {
     "data": {
      "text/plain": [
       "<__main__.DelongTest at 0x14050d18f98>"
      ]
     },
     "execution_count": 14,
     "metadata": {},
     "output_type": "execute_result"
    }
   ],
   "source": [
    "DelongTest(X1,X3,y)"
   ]
  },
  {
   "cell_type": "code",
   "execution_count": 15,
   "metadata": {},
   "outputs": [
    {
     "name": "stdout",
     "output_type": "stream",
     "text": [
      "z score = -4.92414;\n",
      "p value = 0.00000;\n",
      "There is a significant difference\n"
     ]
    },
    {
     "data": {
      "text/plain": [
       "<__main__.DelongTest at 0x14050d2f0b8>"
      ]
     },
     "execution_count": 15,
     "metadata": {},
     "output_type": "execute_result"
    }
   ],
   "source": [
    "DelongTest(X2,X3,y)"
   ]
  },
  {
   "cell_type": "code",
   "execution_count": 16,
   "metadata": {},
   "outputs": [
    {
     "name": "stdout",
     "output_type": "stream",
     "text": [
      "z score = -0.90156;\n",
      "p value = 0.36729;\n",
      "There is NO significant difference\n"
     ]
    },
    {
     "data": {
      "text/plain": [
       "<__main__.DelongTest at 0x14050d2f160>"
      ]
     },
     "execution_count": 16,
     "metadata": {},
     "output_type": "execute_result"
    }
   ],
   "source": [
    "DelongTest(X1,X2,y)"
   ]
  },
  {
   "cell_type": "markdown",
   "metadata": {},
   "source": [
    "## DeLong test for training and test"
   ]
  },
  {
   "cell_type": "code",
   "execution_count": 17,
   "metadata": {},
   "outputs": [],
   "source": [
    "df1 = pd.read_csv('E:/Experiments/PeilunHan/LVNC/radiomics/run-new/run-1223/Delong-test.csv',encoding='gbk')\n",
    "df1_X1 = df1.iloc[:, 4].values\n",
    "df1_X2 = df1.iloc[:, 5].values\n",
    "df1_X3 = df1.iloc[:, 6].values\n",
    "df1_X4 = df1.iloc[:, 7].values\n",
    "df1_y = df1.iloc[:, 1].values"
   ]
  },
  {
   "cell_type": "code",
   "execution_count": 20,
   "metadata": {},
   "outputs": [
    {
     "data": {
      "text/html": [
       "<div>\n",
       "<style scoped>\n",
       "    .dataframe tbody tr th:only-of-type {\n",
       "        vertical-align: middle;\n",
       "    }\n",
       "\n",
       "    .dataframe tbody tr th {\n",
       "        vertical-align: top;\n",
       "    }\n",
       "\n",
       "    .dataframe thead th {\n",
       "        text-align: right;\n",
       "    }\n",
       "</style>\n",
       "<table border=\"1\" class=\"dataframe\">\n",
       "  <thead>\n",
       "    <tr style=\"text-align: right;\">\n",
       "      <th></th>\n",
       "      <th>Group</th>\n",
       "      <th>End</th>\n",
       "      <th>ID</th>\n",
       "      <th>检查时间</th>\n",
       "      <th>Clinical</th>\n",
       "      <th>Radiomics</th>\n",
       "      <th>RC</th>\n",
       "      <th>Combine</th>\n",
       "    </tr>\n",
       "  </thead>\n",
       "  <tbody>\n",
       "    <tr>\n",
       "      <th>0</th>\n",
       "      <td>2</td>\n",
       "      <td>1</td>\n",
       "      <td>35</td>\n",
       "      <td>2020/1/15</td>\n",
       "      <td>0.14916</td>\n",
       "      <td>0.64519</td>\n",
       "      <td>0.42783</td>\n",
       "      <td>0.88422</td>\n",
       "    </tr>\n",
       "    <tr>\n",
       "      <th>1</th>\n",
       "      <td>2</td>\n",
       "      <td>1</td>\n",
       "      <td>127</td>\n",
       "      <td>2020/2/4</td>\n",
       "      <td>0.09794</td>\n",
       "      <td>0.44603</td>\n",
       "      <td>0.31803</td>\n",
       "      <td>0.65107</td>\n",
       "    </tr>\n",
       "    <tr>\n",
       "      <th>2</th>\n",
       "      <td>2</td>\n",
       "      <td>1</td>\n",
       "      <td>128</td>\n",
       "      <td>2020/3/19</td>\n",
       "      <td>0.46138</td>\n",
       "      <td>0.15629</td>\n",
       "      <td>0.13203</td>\n",
       "      <td>0.55690</td>\n",
       "    </tr>\n",
       "    <tr>\n",
       "      <th>3</th>\n",
       "      <td>2</td>\n",
       "      <td>0</td>\n",
       "      <td>115</td>\n",
       "      <td>2020/4/3</td>\n",
       "      <td>0.10375</td>\n",
       "      <td>0.18137</td>\n",
       "      <td>0.10123</td>\n",
       "      <td>0.15086</td>\n",
       "    </tr>\n",
       "    <tr>\n",
       "      <th>4</th>\n",
       "      <td>2</td>\n",
       "      <td>0</td>\n",
       "      <td>64</td>\n",
       "      <td>2020/4/7</td>\n",
       "      <td>0.04497</td>\n",
       "      <td>0.16375</td>\n",
       "      <td>0.08137</td>\n",
       "      <td>0.04683</td>\n",
       "    </tr>\n",
       "  </tbody>\n",
       "</table>\n",
       "</div>"
      ],
      "text/plain": [
       "   Group  End   ID       检查时间  Clinical  Radiomics       RC  Combine\n",
       "0      2    1   35  2020/1/15   0.14916    0.64519  0.42783  0.88422\n",
       "1      2    1  127   2020/2/4   0.09794    0.44603  0.31803  0.65107\n",
       "2      2    1  128  2020/3/19   0.46138    0.15629  0.13203  0.55690\n",
       "3      2    0  115   2020/4/3   0.10375    0.18137  0.10123  0.15086\n",
       "4      2    0   64   2020/4/7   0.04497    0.16375  0.08137  0.04683"
      ]
     },
     "execution_count": 20,
     "metadata": {},
     "output_type": "execute_result"
    }
   ],
   "source": [
    "df1.head()"
   ]
  },
  {
   "cell_type": "code",
   "execution_count": 18,
   "metadata": {},
   "outputs": [
    {
     "data": {
      "text/plain": [
       "array([0.88422, 0.65107, 0.5569 , 0.15086, 0.04683, 0.72275, 0.23438,\n",
       "       0.60325, 0.01741, 0.04502, 0.40248, 0.02053, 0.0424 , 0.07397,\n",
       "       0.35127, 0.41549, 0.51972, 0.02153, 0.25264, 0.30348])"
      ]
     },
     "execution_count": 18,
     "metadata": {},
     "output_type": "execute_result"
    }
   ],
   "source": [
    "df1_X4"
   ]
  },
  {
   "cell_type": "code",
   "execution_count": 21,
   "metadata": {},
   "outputs": [
    {
     "name": "stdout",
     "output_type": "stream",
     "text": [
      "z score = -2.14842;\n",
      "p value = 0.03168;\n",
      "There is a significant difference\n"
     ]
    },
    {
     "data": {
      "text/plain": [
       "<__main__.DelongTest at 0x14050d2f668>"
      ]
     },
     "execution_count": 21,
     "metadata": {},
     "output_type": "execute_result"
    }
   ],
   "source": [
    "DelongTest(df1_X1, df1_X4, df1_y)"
   ]
  },
  {
   "cell_type": "code",
   "execution_count": 22,
   "metadata": {},
   "outputs": [
    {
     "name": "stdout",
     "output_type": "stream",
     "text": [
      "z score = -2.35804;\n",
      "p value = 0.01837;\n",
      "There is a significant difference\n"
     ]
    },
    {
     "data": {
      "text/plain": [
       "<__main__.DelongTest at 0x14050d2fe10>"
      ]
     },
     "execution_count": 22,
     "metadata": {},
     "output_type": "execute_result"
    }
   ],
   "source": [
    "DelongTest(df1_X2, df1_X4, df1_y)"
   ]
  },
  {
   "cell_type": "code",
   "execution_count": 23,
   "metadata": {},
   "outputs": [
    {
     "name": "stdout",
     "output_type": "stream",
     "text": [
      "z score = -1.99429;\n",
      "p value = 0.04612;\n",
      "There is a significant difference\n"
     ]
    },
    {
     "data": {
      "text/plain": [
       "<__main__.DelongTest at 0x14050d2f5f8>"
      ]
     },
     "execution_count": 23,
     "metadata": {},
     "output_type": "execute_result"
    }
   ],
   "source": [
    "DelongTest(df1_X3, df1_X4, df1_y)"
   ]
  },
  {
   "cell_type": "code",
   "execution_count": null,
   "metadata": {},
   "outputs": [],
   "source": []
  },
  {
   "cell_type": "code",
   "execution_count": 24,
   "metadata": {},
   "outputs": [
    {
     "name": "stdout",
     "output_type": "stream",
     "text": [
      "z score = -1.18322;\n",
      "p value = 0.23672;\n",
      "There is NO significant difference\n"
     ]
    },
    {
     "data": {
      "text/plain": [
       "<__main__.DelongTest at 0x14050d2fef0>"
      ]
     },
     "execution_count": 24,
     "metadata": {},
     "output_type": "execute_result"
    }
   ],
   "source": [
    "DelongTest(df1_X1, df1_X3, df1_y)"
   ]
  },
  {
   "cell_type": "code",
   "execution_count": 25,
   "metadata": {},
   "outputs": [
    {
     "name": "stdout",
     "output_type": "stream",
     "text": [
      "z score = -1.39462;\n",
      "p value = 0.16313;\n",
      "There is NO significant difference\n"
     ]
    },
    {
     "data": {
      "text/plain": [
       "<__main__.DelongTest at 0x14050d2fd30>"
      ]
     },
     "execution_count": 25,
     "metadata": {},
     "output_type": "execute_result"
    }
   ],
   "source": [
    "DelongTest(df1_X2, df1_X3, df1_y)"
   ]
  },
  {
   "cell_type": "code",
   "execution_count": 26,
   "metadata": {},
   "outputs": [
    {
     "name": "stdout",
     "output_type": "stream",
     "text": [
      "z score = 0.34759;\n",
      "p value = 0.72815;\n",
      "There is NO significant difference\n"
     ]
    },
    {
     "data": {
      "text/plain": [
       "<__main__.DelongTest at 0x14050d2f3c8>"
      ]
     },
     "execution_count": 26,
     "metadata": {},
     "output_type": "execute_result"
    }
   ],
   "source": [
    "DelongTest(df1_X1, df1_X2, df1_y)"
   ]
  },
  {
   "cell_type": "code",
   "execution_count": null,
   "metadata": {},
   "outputs": [],
   "source": []
  }
 ],
 "metadata": {
  "kernelspec": {
   "display_name": "Python 36",
   "language": "python",
   "name": "python3"
  },
  "language_info": {
   "codemirror_mode": {
    "name": "ipython",
    "version": 3
   },
   "file_extension": ".py",
   "mimetype": "text/x-python",
   "name": "python",
   "nbconvert_exporter": "python",
   "pygments_lexer": "ipython3",
   "version": "3.6.6rc1"
  }
 },
 "nbformat": 4,
 "nbformat_minor": 2
}
