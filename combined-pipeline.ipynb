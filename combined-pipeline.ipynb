{
 "cells": [
  {
   "cell_type": "code",
   "execution_count": 1,
   "metadata": {},
   "outputs": [
    {
     "name": "stderr",
     "output_type": "stream",
     "text": [
      "D:\\Python3\\lib\\site-packages\\numpy\\_distributor_init.py:32: UserWarning: loaded more than 1 DLL from .libs:\n",
      "D:\\Python3\\lib\\site-packages\\numpy\\.libs\\libopenblas.IPBC74C7KURV7CB2PKT5Z5FNR3SIBV4J.gfortran-win_amd64.dll\n",
      "D:\\Python3\\lib\\site-packages\\numpy\\.libs\\libopenblas.PYQHXLVVQ7VESDPUVUADXEVJOBGHJPAY.gfortran-win_amd64.dll\n",
      "D:\\Python3\\lib\\site-packages\\numpy\\.libs\\libopenblas.TXA6YQSD3GCQQC22GEQ54J2UDCXDXHWN.gfortran-win_amd64.dll\n",
      "  stacklevel=1)\n"
     ]
    }
   ],
   "source": [
    "import pandas as pd\n",
    "import numpy as np\n",
    "import matplotlib.pyplot as plt\n",
    "%matplotlib inline\n",
    "\n",
    "from sklearn.preprocessing import LabelEncoder\n",
    "from sklearn.preprocessing import StandardScaler\n",
    "from sklearn import model_selection\n",
    "from sklearn.linear_model import LogisticRegression\n",
    "from sklearn.feature_selection import RFE\n",
    "from sklearn import ensemble\n",
    "from sklearn import gaussian_process\n",
    "from sklearn import linear_model\n",
    "from sklearn import naive_bayes\n",
    "from sklearn import neighbors\n",
    "from sklearn import svm\n",
    "from sklearn import tree\n",
    "from sklearn import discriminant_analysis\n",
    "from sklearn.model_selection import train_test_split, GridSearchCV\n",
    "from sklearn.pipeline import Pipeline\n",
    "from sklearn.preprocessing import StandardScaler\n",
    "from sklearn.neighbors import KNeighborsClassifier\n",
    "\n",
    "import xgboost as xgb\n",
    "from xgboost import XGBClassifier\n",
    "MLA = [\n",
    "    ensemble.AdaBoostClassifier(),\n",
    "    ensemble.BaggingClassifier(),\n",
    "    ensemble.ExtraTreesClassifier(),\n",
    "    ensemble.GradientBoostingClassifier(),\n",
    "    ensemble.RandomForestClassifier(),\n",
    "    gaussian_process.GaussianProcessClassifier(),\n",
    "    linear_model.LogisticRegressionCV(),\n",
    "    linear_model.PassiveAggressiveClassifier(),\n",
    "    linear_model.RidgeClassifierCV(),\n",
    "    linear_model.SGDClassifier(),\n",
    "    linear_model.Perceptron(), \n",
    "    naive_bayes.BernoulliNB(),\n",
    "    naive_bayes.GaussianNB(),\n",
    "    neighbors.KNeighborsClassifier(), \n",
    "    svm.SVC(probability=True),\n",
    "    #svm.NuSVC(probability=True),\n",
    "    svm.LinearSVC(), \n",
    "    tree.DecisionTreeClassifier(),\n",
    "    tree.ExtraTreeClassifier(),\n",
    "    discriminant_analysis.LinearDiscriminantAnalysis(),\n",
    "    discriminant_analysis.QuadraticDiscriminantAnalysis(),\n",
    "    XGBClassifier()\n",
    "       ] \n",
    "\n",
    "import warnings\n",
    "warnings.filterwarnings('ignore')"
   ]
  },
  {
   "cell_type": "markdown",
   "metadata": {},
   "source": [
    "## Read training data"
   ]
  },
  {
   "cell_type": "code",
   "execution_count": 2,
   "metadata": {},
   "outputs": [
    {
     "name": "stdout",
     "output_type": "stream",
     "text": [
      "<class 'pandas.core.frame.DataFrame'>\n",
      "RangeIndex: 76 entries, 0 to 75\n",
      "Data columns (total 28 columns):\n",
      " #   Column                                  Non-Null Count  Dtype  \n",
      "---  ------                                  --------------  -----  \n",
      " 0   Group                                   76 non-null     int64  \n",
      " 1   End                                     76 non-null     int64  \n",
      " 2   ID                                      76 non-null     int64  \n",
      " 3   检查时间                                    76 non-null     object \n",
      " 4   original_shape_Flatness                 76 non-null     float64\n",
      " 5   original_shape_Elongation               76 non-null     float64\n",
      " 6   original_glcm_ClusterShade              76 non-null     float64\n",
      " 7   original_firstorder_10Percentile        76 non-null     float64\n",
      " 8   original_firstorder_Minimum             76 non-null     float64\n",
      " 9   original_shape_Maximum2DDiameterColumn  76 non-null     float64\n",
      " 10  original_glszm_SmallAreaEmphasis        76 non-null     float64\n",
      " 11  original_shape_Maximum2DDiameterRow     76 non-null     float64\n",
      " 12  original_firstorder_Mean                76 non-null     float64\n",
      " 13  original_shape_SurfaceVolumeRatio       76 non-null     float64\n",
      " 14  original_firstorder_Energy              76 non-null     float64\n",
      " 15  original_firstorder_Skewness            76 non-null     float64\n",
      " 16  LGE                                     76 non-null     int64  \n",
      " 17  LVSV                                    76 non-null     float64\n",
      " 18  Age                                     76 non-null     int64  \n",
      " 19  CLVMI                                   76 non-null     float64\n",
      " 20  LVEDV                                   76 non-null     float64\n",
      " 21  LVEF                                    76 non-null     float64\n",
      " 22  RVNC                                    76 non-null     int64  \n",
      " 23  NCC                                     76 non-null     float64\n",
      " 24  Beta                                    76 non-null     int64  \n",
      " 25  BMI                                     76 non-null     float64\n",
      " 26  Rvabnormalities                         76 non-null     int64  \n",
      " 27  Noseg                                   76 non-null     int64  \n",
      "dtypes: float64(18), int64(9), object(1)\n",
      "memory usage: 16.8+ KB\n"
     ]
    }
   ],
   "source": [
    "df = pd.read_csv('E:/Experiments/PeilunHan/LVNC/radiomics/run-new/run-1223/combine-train.csv',encoding='gbk')\n",
    "df.info()"
   ]
  },
  {
   "cell_type": "code",
   "execution_count": 3,
   "metadata": {},
   "outputs": [
    {
     "data": {
      "text/html": [
       "<div>\n",
       "<style scoped>\n",
       "    .dataframe tbody tr th:only-of-type {\n",
       "        vertical-align: middle;\n",
       "    }\n",
       "\n",
       "    .dataframe tbody tr th {\n",
       "        vertical-align: top;\n",
       "    }\n",
       "\n",
       "    .dataframe thead th {\n",
       "        text-align: right;\n",
       "    }\n",
       "</style>\n",
       "<table border=\"1\" class=\"dataframe\">\n",
       "  <thead>\n",
       "    <tr style=\"text-align: right;\">\n",
       "      <th></th>\n",
       "      <th>Group</th>\n",
       "      <th>End</th>\n",
       "      <th>ID</th>\n",
       "      <th>检查时间</th>\n",
       "      <th>original_shape_Flatness</th>\n",
       "      <th>original_shape_Elongation</th>\n",
       "      <th>original_glcm_ClusterShade</th>\n",
       "      <th>original_firstorder_10Percentile</th>\n",
       "      <th>original_firstorder_Minimum</th>\n",
       "      <th>original_shape_Maximum2DDiameterColumn</th>\n",
       "      <th>...</th>\n",
       "      <th>Age</th>\n",
       "      <th>CLVMI</th>\n",
       "      <th>LVEDV</th>\n",
       "      <th>LVEF</th>\n",
       "      <th>RVNC</th>\n",
       "      <th>NCC</th>\n",
       "      <th>Beta</th>\n",
       "      <th>BMI</th>\n",
       "      <th>Rvabnormalities</th>\n",
       "      <th>Noseg</th>\n",
       "    </tr>\n",
       "  </thead>\n",
       "  <tbody>\n",
       "    <tr>\n",
       "      <th>0</th>\n",
       "      <td>1</td>\n",
       "      <td>0</td>\n",
       "      <td>151</td>\n",
       "      <td>2012/1/17</td>\n",
       "      <td>0.089947</td>\n",
       "      <td>0.956562</td>\n",
       "      <td>1523.214082</td>\n",
       "      <td>-8.521614</td>\n",
       "      <td>-82.271643</td>\n",
       "      <td>77.447115</td>\n",
       "      <td>...</td>\n",
       "      <td>15</td>\n",
       "      <td>61.50</td>\n",
       "      <td>189.88</td>\n",
       "      <td>61.6</td>\n",
       "      <td>1</td>\n",
       "      <td>4.72</td>\n",
       "      <td>0</td>\n",
       "      <td>22.68</td>\n",
       "      <td>0</td>\n",
       "      <td>13</td>\n",
       "    </tr>\n",
       "    <tr>\n",
       "      <th>1</th>\n",
       "      <td>1</td>\n",
       "      <td>0</td>\n",
       "      <td>23</td>\n",
       "      <td>2013/5/31</td>\n",
       "      <td>0.092819</td>\n",
       "      <td>0.963362</td>\n",
       "      <td>28835.622890</td>\n",
       "      <td>-14.571660</td>\n",
       "      <td>-87.111764</td>\n",
       "      <td>93.867462</td>\n",
       "      <td>...</td>\n",
       "      <td>45</td>\n",
       "      <td>68.36</td>\n",
       "      <td>298.60</td>\n",
       "      <td>20.9</td>\n",
       "      <td>0</td>\n",
       "      <td>3.48</td>\n",
       "      <td>0</td>\n",
       "      <td>25.71</td>\n",
       "      <td>1</td>\n",
       "      <td>11</td>\n",
       "    </tr>\n",
       "    <tr>\n",
       "      <th>2</th>\n",
       "      <td>1</td>\n",
       "      <td>0</td>\n",
       "      <td>152</td>\n",
       "      <td>2013/7/5</td>\n",
       "      <td>0.078033</td>\n",
       "      <td>0.951846</td>\n",
       "      <td>2792.368275</td>\n",
       "      <td>-4.293009</td>\n",
       "      <td>-73.745260</td>\n",
       "      <td>90.005555</td>\n",
       "      <td>...</td>\n",
       "      <td>50</td>\n",
       "      <td>56.12</td>\n",
       "      <td>156.80</td>\n",
       "      <td>31.4</td>\n",
       "      <td>0</td>\n",
       "      <td>8.00</td>\n",
       "      <td>0</td>\n",
       "      <td>24.49</td>\n",
       "      <td>1</td>\n",
       "      <td>7</td>\n",
       "    </tr>\n",
       "    <tr>\n",
       "      <th>3</th>\n",
       "      <td>1</td>\n",
       "      <td>1</td>\n",
       "      <td>29</td>\n",
       "      <td>2013/10/24</td>\n",
       "      <td>0.088140</td>\n",
       "      <td>0.913976</td>\n",
       "      <td>6464.951013</td>\n",
       "      <td>5.594602</td>\n",
       "      <td>-55.817565</td>\n",
       "      <td>81.464473</td>\n",
       "      <td>...</td>\n",
       "      <td>66</td>\n",
       "      <td>34.37</td>\n",
       "      <td>173.30</td>\n",
       "      <td>33.0</td>\n",
       "      <td>0</td>\n",
       "      <td>11.50</td>\n",
       "      <td>0</td>\n",
       "      <td>21.80</td>\n",
       "      <td>1</td>\n",
       "      <td>11</td>\n",
       "    </tr>\n",
       "    <tr>\n",
       "      <th>4</th>\n",
       "      <td>1</td>\n",
       "      <td>0</td>\n",
       "      <td>53</td>\n",
       "      <td>2013/11/26</td>\n",
       "      <td>0.076208</td>\n",
       "      <td>0.980006</td>\n",
       "      <td>20815.069160</td>\n",
       "      <td>40.708389</td>\n",
       "      <td>-77.359506</td>\n",
       "      <td>88.355970</td>\n",
       "      <td>...</td>\n",
       "      <td>22</td>\n",
       "      <td>40.25</td>\n",
       "      <td>183.00</td>\n",
       "      <td>47.8</td>\n",
       "      <td>0</td>\n",
       "      <td>10.90</td>\n",
       "      <td>0</td>\n",
       "      <td>19.38</td>\n",
       "      <td>1</td>\n",
       "      <td>16</td>\n",
       "    </tr>\n",
       "  </tbody>\n",
       "</table>\n",
       "<p>5 rows × 28 columns</p>\n",
       "</div>"
      ],
      "text/plain": [
       "   Group  End   ID        检查时间  original_shape_Flatness  \\\n",
       "0      1    0  151   2012/1/17                 0.089947   \n",
       "1      1    0   23   2013/5/31                 0.092819   \n",
       "2      1    0  152    2013/7/5                 0.078033   \n",
       "3      1    1   29  2013/10/24                 0.088140   \n",
       "4      1    0   53  2013/11/26                 0.076208   \n",
       "\n",
       "   original_shape_Elongation  original_glcm_ClusterShade  \\\n",
       "0                   0.956562                 1523.214082   \n",
       "1                   0.963362                28835.622890   \n",
       "2                   0.951846                 2792.368275   \n",
       "3                   0.913976                 6464.951013   \n",
       "4                   0.980006                20815.069160   \n",
       "\n",
       "   original_firstorder_10Percentile  original_firstorder_Minimum  \\\n",
       "0                         -8.521614                   -82.271643   \n",
       "1                        -14.571660                   -87.111764   \n",
       "2                         -4.293009                   -73.745260   \n",
       "3                          5.594602                   -55.817565   \n",
       "4                         40.708389                   -77.359506   \n",
       "\n",
       "   original_shape_Maximum2DDiameterColumn  ...  Age  CLVMI   LVEDV  LVEF  \\\n",
       "0                               77.447115  ...   15  61.50  189.88  61.6   \n",
       "1                               93.867462  ...   45  68.36  298.60  20.9   \n",
       "2                               90.005555  ...   50  56.12  156.80  31.4   \n",
       "3                               81.464473  ...   66  34.37  173.30  33.0   \n",
       "4                               88.355970  ...   22  40.25  183.00  47.8   \n",
       "\n",
       "   RVNC    NCC  Beta    BMI  Rvabnormalities  Noseg  \n",
       "0     1   4.72     0  22.68                0     13  \n",
       "1     0   3.48     0  25.71                1     11  \n",
       "2     0   8.00     0  24.49                1      7  \n",
       "3     0  11.50     0  21.80                1     11  \n",
       "4     0  10.90     0  19.38                1     16  \n",
       "\n",
       "[5 rows x 28 columns]"
      ]
     },
     "execution_count": 3,
     "metadata": {},
     "output_type": "execute_result"
    }
   ],
   "source": [
    "df.head()"
   ]
  },
  {
   "cell_type": "code",
   "execution_count": 4,
   "metadata": {},
   "outputs": [
    {
     "data": {
      "text/plain": [
       "{0: 0, 1: 1}"
      ]
     },
     "execution_count": 4,
     "metadata": {},
     "output_type": "execute_result"
    }
   ],
   "source": [
    "class_mapping = {label: idx for idx, label in enumerate(np.unique(df['End']))} \n",
    "class_mapping"
   ]
  },
  {
   "cell_type": "code",
   "execution_count": 5,
   "metadata": {},
   "outputs": [
    {
     "name": "stdout",
     "output_type": "stream",
     "text": [
      "(76,)\n",
      "(76, 24)\n"
     ]
    }
   ],
   "source": [
    "from sklearn.preprocessing import LabelEncoder\n",
    "df['End'] = df['End'].map(class_mapping)\n",
    "y_train = LabelEncoder().fit_transform(df['End'].values)\n",
    "X_train = df.iloc[:, 4:28].values\n",
    "print(y_train.shape)\n",
    "print(X_train.shape)"
   ]
  },
  {
   "cell_type": "code",
   "execution_count": 6,
   "metadata": {},
   "outputs": [],
   "source": [
    "feat_labels = df.columns[4:28] "
   ]
  },
  {
   "cell_type": "code",
   "execution_count": 7,
   "metadata": {},
   "outputs": [
    {
     "name": "stdout",
     "output_type": "stream",
     "text": [
      "(76, 24)\n"
     ]
    }
   ],
   "source": [
    "from sklearn.preprocessing import StandardScaler\n",
    "stdsc = StandardScaler()\n",
    "X_std = stdsc.fit_transform(X_train)\n",
    "X_train = X_std\n",
    "print(X_train.shape)"
   ]
  },
  {
   "cell_type": "markdown",
   "metadata": {},
   "source": [
    "## Read test data"
   ]
  },
  {
   "cell_type": "code",
   "execution_count": 8,
   "metadata": {},
   "outputs": [
    {
     "name": "stdout",
     "output_type": "stream",
     "text": [
      "(20,)\n",
      "(20, 24)\n",
      "(20, 24)\n"
     ]
    }
   ],
   "source": [
    "df1 = pd.read_csv('E:/Experiments/PeilunHan/LVNC/radiomics/run-new/run-1223/combine-test.csv',encoding='gbk')\n",
    "class_mapping = {label: idx for idx, label in enumerate(np.unique(df1['End']))}\n",
    "df1['End'] = df1['End'].map(class_mapping)\n",
    "y_test = LabelEncoder().fit_transform(df1['End'].values)\n",
    "X_test = df1.iloc[:, 4:28].values\n",
    "print(y_test.shape)\n",
    "print(X_test.shape)\n",
    "X_test = stdsc.transform(X_test)\n",
    "print(X_test.shape)"
   ]
  },
  {
   "cell_type": "markdown",
   "metadata": {},
   "source": [
    "## All the data"
   ]
  },
  {
   "cell_type": "code",
   "execution_count": 9,
   "metadata": {},
   "outputs": [
    {
     "name": "stdout",
     "output_type": "stream",
     "text": [
      "(96,)\n",
      "(96, 24)\n",
      "(96, 24)\n"
     ]
    }
   ],
   "source": [
    "df2 = pd.read_csv('E:/Experiments/PeilunHan/LVNC/radiomics/run-new/run-1223/combine-new.csv',encoding='gbk')\n",
    "class_mapping = {label: idx for idx, label in enumerate(np.unique(df2['End']))}\n",
    "df2['End'] = df2['End'].map(class_mapping)\n",
    "y = LabelEncoder().fit_transform(df2['End'].values)\n",
    "X = df2.iloc[:, 4:28].values\n",
    "print(y.shape)\n",
    "print(X.shape)\n",
    "X = stdsc.transform(X)\n",
    "print(X.shape)"
   ]
  },
  {
   "cell_type": "code",
   "execution_count": 10,
   "metadata": {},
   "outputs": [
    {
     "name": "stdout",
     "output_type": "stream",
     "text": [
      "0    75\n",
      "1    21\n",
      "Name: End, dtype: int64\n"
     ]
    },
    {
     "data": {
      "image/png": "[encoded data removed]",
      "text/plain": [
       "<Figure size 432x288 with 1 Axes>"
      ]
     },
     "metadata": {
      "needs_background": "light"
     },
     "output_type": "display_data"
    }
   ],
   "source": [
    "import seaborn as sns\n",
    "ax = sns.countplot(x=y, data=df2)\n",
    "print(df2['End'].value_counts())"
   ]
  },
  {
   "cell_type": "markdown",
   "metadata": {},
   "source": [
    "## Data preprocessing"
   ]
  },
  {
   "cell_type": "code",
   "execution_count": 11,
   "metadata": {},
   "outputs": [
    {
     "name": "stderr",
     "output_type": "stream",
     "text": [
      "Using TensorFlow backend.\n"
     ]
    }
   ],
   "source": [
    "from imblearn.over_sampling import SMOTE\n",
    "from imblearn.pipeline import make_pipeline\n",
    "sm = SMOTE(random_state=11)\n",
    "X1_train, y1_train = sm.fit_sample(X_train, y_train)"
   ]
  },
  {
   "cell_type": "code",
   "execution_count": 12,
   "metadata": {},
   "outputs": [
    {
     "data": {
      "text/plain": [
       "{0: 61, 1: 61}"
      ]
     },
     "execution_count": 12,
     "metadata": {},
     "output_type": "execute_result"
    }
   ],
   "source": [
    "unique, count = np.unique(y1_train, return_counts=True)\n",
    "y1_train_smote_value_count = { k:v for (k,v) in zip(unique, count)}\n",
    "y1_train_smote_value_count"
   ]
  },
  {
   "cell_type": "code",
   "execution_count": 13,
   "metadata": {},
   "outputs": [
    {
     "name": "stdout",
     "output_type": "stream",
     "text": [
      "(122,)\n",
      "(122, 24)\n"
     ]
    }
   ],
   "source": [
    "print(y1_train.shape)\n",
    "print(X1_train.shape)"
   ]
  },
  {
   "cell_type": "code",
   "execution_count": 14,
   "metadata": {},
   "outputs": [
    {
     "data": {
      "text/html": [
       "<div>\n",
       "<style scoped>\n",
       "    .dataframe tbody tr th:only-of-type {\n",
       "        vertical-align: middle;\n",
       "    }\n",
       "\n",
       "    .dataframe tbody tr th {\n",
       "        vertical-align: top;\n",
       "    }\n",
       "\n",
       "    .dataframe thead th {\n",
       "        text-align: right;\n",
       "    }\n",
       "</style>\n",
       "<table border=\"1\" class=\"dataframe\">\n",
       "  <thead>\n",
       "    <tr style=\"text-align: right;\">\n",
       "      <th></th>\n",
       "      <th>0</th>\n",
       "      <th>1</th>\n",
       "      <th>2</th>\n",
       "      <th>3</th>\n",
       "      <th>4</th>\n",
       "      <th>5</th>\n",
       "      <th>6</th>\n",
       "      <th>7</th>\n",
       "      <th>8</th>\n",
       "      <th>9</th>\n",
       "      <th>...</th>\n",
       "      <th>14</th>\n",
       "      <th>15</th>\n",
       "      <th>16</th>\n",
       "      <th>17</th>\n",
       "      <th>18</th>\n",
       "      <th>19</th>\n",
       "      <th>20</th>\n",
       "      <th>21</th>\n",
       "      <th>22</th>\n",
       "      <th>23</th>\n",
       "    </tr>\n",
       "  </thead>\n",
       "  <tbody>\n",
       "    <tr>\n",
       "      <th>0</th>\n",
       "      <td>-1.027529</td>\n",
       "      <td>0.585579</td>\n",
       "      <td>-0.510981</td>\n",
       "      <td>-0.490969</td>\n",
       "      <td>-0.928089</td>\n",
       "      <td>-0.320610</td>\n",
       "      <td>-0.949745</td>\n",
       "      <td>-0.171365</td>\n",
       "      <td>-1.098744</td>\n",
       "      <td>0.194699</td>\n",
       "      <td>...</td>\n",
       "      <td>-1.528278</td>\n",
       "      <td>-0.070421</td>\n",
       "      <td>-0.312902</td>\n",
       "      <td>1.207824</td>\n",
       "      <td>2.309401</td>\n",
       "      <td>0.247548</td>\n",
       "      <td>-0.679366</td>\n",
       "      <td>-0.207948</td>\n",
       "      <td>-1.054093</td>\n",
       "      <td>0.983448</td>\n",
       "    </tr>\n",
       "    <tr>\n",
       "      <th>1</th>\n",
       "      <td>-0.889105</td>\n",
       "      <td>0.763761</td>\n",
       "      <td>0.719760</td>\n",
       "      <td>-0.662558</td>\n",
       "      <td>-1.216693</td>\n",
       "      <td>0.795467</td>\n",
       "      <td>0.749838</td>\n",
       "      <td>0.170889</td>\n",
       "      <td>0.770482</td>\n",
       "      <td>-1.115657</td>\n",
       "      <td>...</td>\n",
       "      <td>0.526247</td>\n",
       "      <td>0.189360</td>\n",
       "      <td>0.683888</td>\n",
       "      <td>-0.918600</td>\n",
       "      <td>-0.433013</td>\n",
       "      <td>-0.366856</td>\n",
       "      <td>-0.679366</td>\n",
       "      <td>0.376601</td>\n",
       "      <td>0.948683</td>\n",
       "      <td>0.476722</td>\n",
       "    </tr>\n",
       "    <tr>\n",
       "      <th>2</th>\n",
       "      <td>-1.601914</td>\n",
       "      <td>0.461998</td>\n",
       "      <td>-0.453791</td>\n",
       "      <td>-0.371038</td>\n",
       "      <td>-0.419682</td>\n",
       "      <td>0.532977</td>\n",
       "      <td>0.206087</td>\n",
       "      <td>0.799800</td>\n",
       "      <td>-0.542180</td>\n",
       "      <td>0.928641</td>\n",
       "      <td>...</td>\n",
       "      <td>0.868667</td>\n",
       "      <td>-0.274156</td>\n",
       "      <td>-0.616193</td>\n",
       "      <td>-0.370014</td>\n",
       "      <td>-0.433013</td>\n",
       "      <td>1.872744</td>\n",
       "      <td>-0.679366</td>\n",
       "      <td>0.141238</td>\n",
       "      <td>0.948683</td>\n",
       "      <td>-0.536729</td>\n",
       "    </tr>\n",
       "    <tr>\n",
       "      <th>3</th>\n",
       "      <td>-1.114670</td>\n",
       "      <td>-0.530350</td>\n",
       "      <td>-0.288298</td>\n",
       "      <td>-0.090609</td>\n",
       "      <td>0.649301</td>\n",
       "      <td>-0.047554</td>\n",
       "      <td>0.936315</td>\n",
       "      <td>-0.667090</td>\n",
       "      <td>0.530234</td>\n",
       "      <td>-0.550875</td>\n",
       "      <td>...</td>\n",
       "      <td>1.964414</td>\n",
       "      <td>-1.097806</td>\n",
       "      <td>-0.464915</td>\n",
       "      <td>-0.286420</td>\n",
       "      <td>-0.433013</td>\n",
       "      <td>3.606947</td>\n",
       "      <td>-0.679366</td>\n",
       "      <td>-0.377718</td>\n",
       "      <td>0.948683</td>\n",
       "      <td>0.476722</td>\n",
       "    </tr>\n",
       "    <tr>\n",
       "      <th>4</th>\n",
       "      <td>-1.689914</td>\n",
       "      <td>1.199880</td>\n",
       "      <td>0.358341</td>\n",
       "      <td>0.905277</td>\n",
       "      <td>-0.635190</td>\n",
       "      <td>0.420856</td>\n",
       "      <td>1.341238</td>\n",
       "      <td>-0.387245</td>\n",
       "      <td>2.204919</td>\n",
       "      <td>0.140759</td>\n",
       "      <td>...</td>\n",
       "      <td>-1.048889</td>\n",
       "      <td>-0.875137</td>\n",
       "      <td>-0.375981</td>\n",
       "      <td>0.486825</td>\n",
       "      <td>-0.433013</td>\n",
       "      <td>3.309655</td>\n",
       "      <td>-0.679366</td>\n",
       "      <td>-0.844586</td>\n",
       "      <td>0.948683</td>\n",
       "      <td>1.743537</td>\n",
       "    </tr>\n",
       "  </tbody>\n",
       "</table>\n",
       "<p>5 rows × 24 columns</p>\n",
       "</div>"
      ],
      "text/plain": [
       "         0         1         2         3         4         5         6   \\\n",
       "0 -1.027529  0.585579 -0.510981 -0.490969 -0.928089 -0.320610 -0.949745   \n",
       "1 -0.889105  0.763761  0.719760 -0.662558 -1.216693  0.795467  0.749838   \n",
       "2 -1.601914  0.461998 -0.453791 -0.371038 -0.419682  0.532977  0.206087   \n",
       "3 -1.114670 -0.530350 -0.288298 -0.090609  0.649301 -0.047554  0.936315   \n",
       "4 -1.689914  1.199880  0.358341  0.905277 -0.635190  0.420856  1.341238   \n",
       "\n",
       "         7         8         9   ...        14        15        16        17  \\\n",
       "0 -0.171365 -1.098744  0.194699  ... -1.528278 -0.070421 -0.312902  1.207824   \n",
       "1  0.170889  0.770482 -1.115657  ...  0.526247  0.189360  0.683888 -0.918600   \n",
       "2  0.799800 -0.542180  0.928641  ...  0.868667 -0.274156 -0.616193 -0.370014   \n",
       "3 -0.667090  0.530234 -0.550875  ...  1.964414 -1.097806 -0.464915 -0.286420   \n",
       "4 -0.387245  2.204919  0.140759  ... -1.048889 -0.875137 -0.375981  0.486825   \n",
       "\n",
       "         18        19        20        21        22        23  \n",
       "0  2.309401  0.247548 -0.679366 -0.207948 -1.054093  0.983448  \n",
       "1 -0.433013 -0.366856 -0.679366  0.376601  0.948683  0.476722  \n",
       "2 -0.433013  1.872744 -0.679366  0.141238  0.948683 -0.536729  \n",
       "3 -0.433013  3.606947 -0.679366 -0.377718  0.948683  0.476722  \n",
       "4 -0.433013  3.309655 -0.679366 -0.844586  0.948683  1.743537  \n",
       "\n",
       "[5 rows x 24 columns]"
      ]
     },
     "execution_count": 14,
     "metadata": {},
     "output_type": "execute_result"
    }
   ],
   "source": [
    "new_df = pd.DataFrame(X1_train)\n",
    "new_df1 = pd.DataFrame(y1_train)\n",
    "new_df.head()"
   ]
  },
  {
   "cell_type": "code",
   "execution_count": 34,
   "metadata": {},
   "outputs": [
    {
     "name": "stdout",
     "output_type": "stream",
     "text": [
      "the true all data:\n",
      "(96, 24)\n",
      "(96,)\n",
      "the true train data:\n",
      "(76, 24)\n",
      "(76,)\n",
      "the generate train data:\n",
      "(122, 24)\n",
      "(122,)\n",
      "the true test data:\n",
      "(20, 24)\n",
      "(20,)\n"
     ]
    }
   ],
   "source": [
    "X0 = X\n",
    "X1 = X_train\n",
    "X2 = X1_train\n",
    "X3 = X_test\n",
    "y0 = y\n",
    "y1 = y_train\n",
    "y2 = y1_train\n",
    "y3 = y_test\n",
    "\n",
    "print(\"the true all data:\")\n",
    "print(X0.shape)\n",
    "print(y0.shape)\n",
    "print(\"the true train data:\")\n",
    "print(X1.shape)\n",
    "print(y1.shape)\n",
    "print(\"the generate train data:\")\n",
    "print(X2.shape)\n",
    "print(y2.shape)\n",
    "print(\"the true test data:\")\n",
    "print(X3.shape)\n",
    "print(y3.shape)"
   ]
  },
  {
   "cell_type": "code",
   "execution_count": 35,
   "metadata": {},
   "outputs": [],
   "source": [
    "# save the data\n",
    "#data_df = pd.DataFrame(X0)\n",
    "#writer = pd.ExcelWriter('nn.xlsx')\n",
    "#data_df.to_excel(writer,'page_1',float_format='%.5f')\n",
    "#writer.save() "
   ]
  },
  {
   "cell_type": "markdown",
   "metadata": {},
   "source": [
    "## Select modeling method"
   ]
  },
  {
   "cell_type": "code",
   "execution_count": 17,
   "metadata": {},
   "outputs": [],
   "source": [
    "clf1 = LogisticRegression(penalty='l2',C=1, multi_class='auto',solver='liblinear',random_state=1)\n",
    "clf2 = tree.DecisionTreeClassifier(random_state=1)\n",
    "clf3 = ensemble.RandomForestClassifier(random_state=1)\n",
    "clf4 = XGBClassifier(random_state=1)\n",
    "clf5 = svm.SVC(probability=True, random_state=1)"
   ]
  },
  {
   "cell_type": "code",
   "execution_count": 19,
   "metadata": {},
   "outputs": [
    {
     "data": {
      "image/png": "[encoded data removed]",
      "text/plain": [
       "<Figure size 576x576 with 1 Axes>"
      ]
     },
     "metadata": {
      "needs_background": "light"
     },
     "output_type": "display_data"
    }
   ],
   "source": [
    "from sklearn.metrics import roc_curve\n",
    "from sklearn.metrics import auc\n",
    "from sklearn import model_selection\n",
    "from scipy import interp\n",
    "import matplotlib\n",
    "from sklearn.metrics import accuracy_score\n",
    "from sklearn.metrics import precision_score, recall_score\n",
    "from sklearn.metrics import auc, f1_score, roc_auc_score, roc_curve\n",
    "from pylab import rcParams\n",
    "\n",
    "cv = model_selection.ShuffleSplit(n_splits = 4, test_size = 0.2, random_state = 1)\n",
    "tprs = []\n",
    "aucs = []\n",
    "mean_fpr = np.linspace(0, 1, 100)\n",
    "i = 0\n",
    "plt.xticks(np.arange(0, 1.1, step=0.1))\n",
    "plt.yticks(np.arange(0, 1.1, step=0.1))\n",
    "matplotlib.rcParams['figure.figsize'] = (8.0, 8.0)\n",
    "\n",
    "for train, test in cv.split(X2, y2):\n",
    "    probas_ = clf1.fit(X2[train], y2[train]).predict_proba(X2[test])\n",
    "    # Compute ROC curve and area the curve\n",
    "    fpr, tpr, thresholds = roc_curve(y2[test], probas_[:, 1])\n",
    "    tprs.append(interp(mean_fpr, fpr, tpr))\n",
    "    tprs[-1][0] = 0.0\n",
    "    roc_auc = auc(fpr, tpr)\n",
    "    #optimal_th, optimal_point = Find_Optimal_Cutoff(TPR=tpr, FPR=fpr, threshold=thresholds) ###\n",
    "    aucs.append(roc_auc)\n",
    "    #plt.plot(fpr, tpr, lw=1, alpha=0.6,label='ROC fold %d (AUC = %0.2f)' % (i, roc_auc))\n",
    "    i += 1\n",
    "\n",
    "plt.plot([0, 1], [0, 1], linestyle='--', lw=1, color='gray', alpha=1)\n",
    "mean_tpr = np.mean(tprs, axis=0)\n",
    "mean_tpr[-1] = 1.0\n",
    "mean_auc = auc(mean_fpr, mean_tpr)\n",
    "#optimal_th, optimal_point = Find_Optimal_Cutoff(TPR=mean_tpr, mean_fpr, threshold=thresholds)\n",
    "std_auc = np.std(aucs)\n",
    "plt.plot(mean_fpr, mean_tpr, color='b',label=r'Logistic Regression (AUC = %0.2f $\\pm$ %0.2f)' % (mean_auc, std_auc),lw=2)\n",
    "std_tpr = np.std(tprs, axis=0)\n",
    "tprs_upper = np.minimum(mean_tpr + std_tpr, 1)\n",
    "tprs_lower = np.maximum(mean_tpr - std_tpr, 0)\n",
    "#############################################################\n",
    "for train, test in cv.split(X2, y2):\n",
    "    probas_ = clf2.fit(X2[train], y2[train]).predict_proba(X2[test])\n",
    "    # Compute ROC curve and area the curve\n",
    "    fpr, tpr, thresholds = roc_curve(y2[test], probas_[:, 1])\n",
    "    tprs.append(interp(mean_fpr, fpr, tpr))\n",
    "    tprs[-1][0] = 0.0\n",
    "    roc_auc = auc(fpr, tpr)\n",
    "    aucs.append(roc_auc)\n",
    "    #plt.plot(fpr, tpr, lw=1, alpha=0.6,label='ROC fold %d (AUC = %0.2f)' % (i, roc_auc))\n",
    "    i += 1\n",
    "#matplotlib.rcParams['figure.figsize'] = (6.0, 6.0)\n",
    "#plt.plot([0, 1], [0, 1], linestyle='--', lw=1, color='gray', alpha=.6)\n",
    "mean_tpr = np.mean(tprs, axis=0)\n",
    "mean_tpr[-1] = 1.0\n",
    "mean_auc = auc(mean_fpr, mean_tpr)\n",
    "std_auc = np.std(aucs)\n",
    "plt.plot(mean_fpr, mean_tpr, color='red',label=r'Decision Tree (AUC = %0.2f $\\pm$ %0.2f)' % (mean_auc, std_auc),lw=2)\n",
    "std_tpr = np.std(tprs, axis=0)\n",
    "tprs_upper = np.minimum(mean_tpr + std_tpr, 1)\n",
    "tprs_lower = np.maximum(mean_tpr - std_tpr, 0)\n",
    "################################################################\n",
    "\n",
    "for train, test in cv.split(X2, y2):\n",
    "    probas_ = clf3.fit(X2[train], y2[train]).predict_proba(X2[test])\n",
    "    # Compute ROC curve and area the curve\n",
    "    fpr, tpr, thresholds = roc_curve(y2[test], probas_[:, 1])\n",
    "    tprs.append(interp(mean_fpr, fpr, tpr))\n",
    "    tprs[-1][0] = 0.0\n",
    "    roc_auc = auc(fpr, tpr)\n",
    "    aucs.append(roc_auc)\n",
    "    #plt.plot(fpr, tpr, lw=1, alpha=0.6,label='ROC fold %d (AUC = %0.2f)' % (i, roc_auc))\n",
    "    i += 1\n",
    "#matplotlib.rcParams['figure.figsize'] = (6.0, 6.0)\n",
    "#plt.plot([0, 1], [0, 1], linestyle='--', lw=1, color='gray', alpha=.6)\n",
    "mean_tpr = np.mean(tprs, axis=0)\n",
    "mean_tpr[-1] = 1.0\n",
    "mean_auc = auc(mean_fpr, mean_tpr)\n",
    "std_auc = np.std(aucs)\n",
    "plt.plot(mean_fpr, mean_tpr, color='green',label=r'Random Forest (AUC = %0.2f $\\pm$ %0.2f)' % (mean_auc, std_auc),lw=2)\n",
    "std_tpr = np.std(tprs, axis=0)\n",
    "tprs_upper = np.minimum(mean_tpr + std_tpr, 1)\n",
    "tprs_lower = np.maximum(mean_tpr - std_tpr, 0)\n",
    "#################################################################\n",
    "for train, test in cv.split(X2, y2):\n",
    "    probas_ = clf4.fit(X2[train], y2[train]).predict_proba(X2[test])\n",
    "    # Compute ROC curve and area the curve\n",
    "    fpr, tpr, thresholds = roc_curve(y2[test], probas_[:, 1])\n",
    "    tprs.append(interp(mean_fpr, fpr, tpr))\n",
    "    tprs[-1][0] = 0.0\n",
    "    roc_auc = auc(fpr, tpr)\n",
    "    aucs.append(roc_auc)\n",
    "    #plt.plot(fpr, tpr, lw=1, alpha=0.6,label='ROC fold %d (AUC = %0.2f)' % (i, roc_auc))\n",
    "    i += 1\n",
    "#matplotlib.rcParams['figure.figsize'] = (6.0, 6.0)\n",
    "#plt.plot([0, 1], [0, 1], linestyle='--', lw=1, color='gray', alpha=.6)\n",
    "mean_tpr = np.mean(tprs, axis=0)\n",
    "mean_tpr[-1] = 1.0\n",
    "mean_auc = auc(mean_fpr, mean_tpr)\n",
    "std_auc = np.std(aucs)\n",
    "plt.plot(mean_fpr, mean_tpr, color='yellow',linestyle='-',label=r'XGboost (AUC = %0.2f $\\pm$ %0.2f)' % (mean_auc, std_auc),lw=2)\n",
    "std_tpr = np.std(tprs, axis=0)\n",
    "tprs_upper = np.minimum(mean_tpr + std_tpr, 1)\n",
    "tprs_lower = np.maximum(mean_tpr - std_tpr, 0)\n",
    "#################################################################\n",
    "for train, test in cv.split(X2, y2):\n",
    "    probas_ = clf5.fit(X2[train], y2[train]).predict_proba(X2[test])\n",
    "    # Compute ROC curve and area the curve\n",
    "    fpr, tpr, thresholds = roc_curve(y2[test], probas_[:, 1])\n",
    "    tprs.append(interp(mean_fpr, fpr, tpr))\n",
    "    tprs[-1][0] = 0.0\n",
    "    roc_auc = auc(fpr, tpr)\n",
    "    aucs.append(roc_auc)\n",
    "    #plt.plot(fpr, tpr, lw=1, alpha=0.6,label='ROC fold %d (AUC = %0.2f)' % (i, roc_auc))\n",
    "    i += 1\n",
    "#matplotlib.rcParams['figure.figsize'] = (6.0, 6.0)\n",
    "#plt.plot([0, 1], [0, 1], linestyle='--', lw=1, color='gray', alpha=.6)\n",
    "mean_tpr = np.mean(tprs, axis=0)\n",
    "mean_tpr[-1] = 1.0\n",
    "mean_auc = auc(mean_fpr, mean_tpr)\n",
    "std_auc = np.std(aucs)\n",
    "plt.plot(mean_fpr, mean_tpr, color='black',linestyle='-', label=r'Support Vector Machine (AUC = %0.2f $\\pm$ %0.2f)' % (mean_auc, std_auc),lw=2)\n",
    "std_tpr = np.std(tprs, axis=0)\n",
    "tprs_upper = np.minimum(mean_tpr + std_tpr, 1)\n",
    "tprs_lower = np.maximum(mean_tpr - std_tpr, 0)\n",
    "\n",
    "#################################################################\n",
    "#plt.fill_between(mean_fpr, tprs_lower, tprs_upper, color='grey', alpha=.2,label=r'$\\pm$ 1 std. dev.')\n",
    "#plt.xlim([-0, 1])\n",
    "#plt.ylim([-0, 1])\n",
    "plt.xlabel('1-Specificity', fontsize = 'x-large')\n",
    "plt.ylabel('Sensitivity', fontsize = 'x-large')\n",
    "#plt.title('Receiver operating characteristic example')\n",
    "plt.legend(loc=\"lower right\" ,\n",
    "           fontsize = 'x-large'\n",
    "          )\n",
    "#plt.plot(optimal_point[0], optimal_point[1], marker='o', color='r')\n",
    "#plt.text(optimal_point[0], optimal_point[1], f'Threshold:{optimal_th:.2f}')\n",
    "\n",
    "plt.savefig('com-ROC1.jpg',dpi=1200)\n",
    "plt.show()"
   ]
  },
  {
   "cell_type": "code",
   "execution_count": 20,
   "metadata": {},
   "outputs": [
    {
     "data": {
      "image/png": "[encoded data removed]",
      "text/plain": [
       "<Figure size 576x576 with 1 Axes>"
      ]
     },
     "metadata": {
      "needs_background": "light"
     },
     "output_type": "display_data"
    }
   ],
   "source": [
    "tprs = []\n",
    "aucs = []\n",
    "mean_fpr = np.linspace(0, 1, 100)\n",
    "i = 0\n",
    "plt.xticks(np.arange(0, 1.1, step=0.1))\n",
    "plt.yticks(np.arange(0, 1.1, step=0.1))\n",
    "###################################################################\n",
    "probas_ = clf1.predict_proba(X1)\n",
    "fpr, tpr, thresholds = roc_curve(y1, probas_[:, 1])\n",
    "fpr=fpr\n",
    "tpr=tpr\n",
    "roc_auc = auc(fpr, tpr)\n",
    "aucs.append(roc_auc)\n",
    "#plt.plot(fpr, tpr, lw=1, alpha=0.3,label='ROC fold %d (AUC = %0.2f)' % (i, roc_auc))\n",
    "plt.plot(fpr, tpr, color='b', alpha=1, lw=2, linestyle='-',label='Logistic Regression (AUC = %0.2f)' % roc_auc) \n",
    "#plt.plot([0, 1], [0, 1], color='gray', lw=1, linestyle='--',alpha=.6)\n",
    "###################################################################\n",
    "probas_ = clf2.predict_proba(X1)\n",
    "fpr, tpr, thresholds = roc_curve(y1, probas_[:, 1])\n",
    "fpr=fpr\n",
    "tpr=tpr\n",
    "roc_auc = auc(fpr, tpr)\n",
    "aucs.append(roc_auc)\n",
    "#plt.plot(fpr, tpr, lw=1, alpha=0.3,label='ROC fold %d (AUC = %0.2f)' % (i, roc_auc))\n",
    "plt.plot(fpr, tpr, color='r', alpha=1, lw=2, linestyle='-',label='Decision Tree ( AUC = %0.2f)' % roc_auc) \n",
    "###################################################################\n",
    "probas_ = clf3.predict_proba(X1)\n",
    "fpr, tpr, thresholds = roc_curve(y1, probas_[:, 1])\n",
    "fpr=fpr\n",
    "tpr=tpr\n",
    "roc_auc = auc(fpr, tpr)\n",
    "aucs.append(roc_auc)\n",
    "#plt.plot(fpr, tpr, lw=1, alpha=0.3,label='ROC fold %d (AUC = %0.2f)' % (i, roc_auc))\n",
    "plt.plot(fpr, tpr, color='green', alpha=1, lw=2, linestyle='-',label='Random Forest (AUC = %0.2f)' % roc_auc) \n",
    "###################################################################\n",
    "probas_ = clf4.predict_proba(X1)\n",
    "fpr, tpr, thresholds = roc_curve(y1, probas_[:, 1])\n",
    "fpr=fpr\n",
    "tpr=tpr\n",
    "roc_auc = auc(fpr, tpr)\n",
    "aucs.append(roc_auc)\n",
    "#plt.plot(fpr, tpr, lw=1, alpha=0.3,label='ROC fold %d (AUC = %0.2f)' % (i, roc_auc))\n",
    "plt.plot(fpr, tpr, color='yellow', alpha=1, lw=2, linestyle='-',label='XGboost ( AUC = %0.2f)' % roc_auc) \n",
    "###################################################################\n",
    "probas_ = clf5.predict_proba(X1)\n",
    "fpr, tpr, thresholds = roc_curve(y1, probas_[:, 1])\n",
    "fpr=fpr\n",
    "tpr=tpr\n",
    "roc_auc = auc(fpr, tpr)\n",
    "aucs.append(roc_auc)\n",
    "#plt.plot(fpr, tpr, lw=1, alpha=0.3,label='ROC fold %d (AUC = %0.2f)' % (i, roc_auc))\n",
    "plt.plot(fpr, tpr, color='black', alpha=1, lw=2, linestyle='-',label='Support Vector Machine ( AUC = %0.2f)' % roc_auc) \n",
    "###################################################################\n",
    "\n",
    "plt.plot([0, 1], [0, 1], linestyle='--', lw=1, color='gray', alpha=1)\n",
    "#plt.fill_between(mean_fpr, tprs_lower, tprs_upper, color='grey', alpha=.2,label=r'$\\pm$ 1 std. dev.')\n",
    "#plt.xlim([-0, 1])\n",
    "#plt.ylim([-0, 1])\n",
    "plt.xlabel('1-Specificity', fontsize = 'x-large')\n",
    "plt.ylabel('Sensitivity', fontsize = 'x-large')\n",
    "#plt.title('Receiver operating characteristic example')\n",
    "plt.legend(loc=\"lower right\" ,\n",
    "           fontsize = 'x-large'\n",
    "          )\n",
    "#plt.savefig('ROC2.jpg',dpi=1200)\n",
    "plt.show()"
   ]
  },
  {
   "cell_type": "code",
   "execution_count": 21,
   "metadata": {},
   "outputs": [
    {
     "data": {
      "image/png": "[encoded data removed]",
      "text/plain": [
       "<Figure size 576x576 with 1 Axes>"
      ]
     },
     "metadata": {
      "needs_background": "light"
     },
     "output_type": "display_data"
    }
   ],
   "source": [
    "tprs = []\n",
    "aucs = []\n",
    "mean_fpr = np.linspace(0, 1, 100)\n",
    "i = 0\n",
    "plt.xticks(np.arange(0, 1.1, step=0.1))\n",
    "plt.yticks(np.arange(0, 1.1, step=0.1))\n",
    "###################################################################\n",
    "probas_ = clf1.predict_proba(X3)\n",
    "fpr, tpr, thresholds = roc_curve(y3, probas_[:, 1])\n",
    "fpr=fpr\n",
    "tpr=tpr\n",
    "roc_auc = auc(fpr, tpr)\n",
    "aucs.append(roc_auc)\n",
    "#plt.plot(fpr, tpr, lw=1, alpha=0.3,label='ROC fold %d (AUC = %0.2f)' % (i, roc_auc))\n",
    "plt.plot(fpr, tpr, color='b', alpha=1, lw=2, linestyle='-',label='Logistic Regression (AUC = %0.2f)' % roc_auc) \n",
    "#plt.plot([0, 1], [0, 1], color='gray', lw=1, linestyle='--',alpha=.6)\n",
    "###################################################################\n",
    "probas_ = clf2.predict_proba(X3)\n",
    "fpr, tpr, thresholds = roc_curve(y3, probas_[:, 1])\n",
    "fpr=fpr\n",
    "tpr=tpr\n",
    "roc_auc = auc(fpr, tpr)\n",
    "aucs.append(roc_auc)\n",
    "#plt.plot(fpr, tpr, lw=1, alpha=0.3,label='ROC fold %d (AUC = %0.2f)' % (i, roc_auc))\n",
    "plt.plot(fpr, tpr, color='r', alpha=1, lw=2, linestyle='-',label='Decision Tree ( AUC = %0.2f)' % roc_auc) \n",
    "###################################################################\n",
    "probas_ = clf3.predict_proba(X3)\n",
    "fpr, tpr, thresholds = roc_curve(y3, probas_[:, 1])\n",
    "fpr=fpr\n",
    "tpr=tpr\n",
    "roc_auc = auc(fpr, tpr)\n",
    "aucs.append(roc_auc)\n",
    "#plt.plot(fpr, tpr, lw=1, alpha=0.3,label='ROC fold %d (AUC = %0.2f)' % (i, roc_auc))\n",
    "plt.plot(fpr, tpr, color='green', alpha=1, lw=2, linestyle='-',label='Random Forest (AUC = %0.2f)' % roc_auc) \n",
    "###################################################################\n",
    "probas_ = clf4.predict_proba(X3)\n",
    "fpr, tpr, thresholds = roc_curve(y3, probas_[:, 1])\n",
    "fpr=fpr\n",
    "tpr=tpr\n",
    "roc_auc = auc(fpr, tpr)\n",
    "aucs.append(roc_auc)\n",
    "#plt.plot(fpr, tpr, lw=1, alpha=0.3,label='ROC fold %d (AUC = %0.2f)' % (i, roc_auc))\n",
    "plt.plot(fpr, tpr, color='y', alpha=1, lw=2, linestyle='-',label='XGboost ( AUC = %0.2f)' % roc_auc) \n",
    "###################################################################\n",
    "probas_ = clf5.predict_proba(X3)\n",
    "fpr, tpr, thresholds = roc_curve(y3, probas_[:, 1])\n",
    "fpr=fpr\n",
    "tpr=tpr\n",
    "roc_auc = auc(fpr, tpr)\n",
    "aucs.append(roc_auc)\n",
    "#plt.plot(fpr, tpr, lw=1, alpha=0.3,label='ROC fold %d (AUC = %0.2f)' % (i, roc_auc))\n",
    "plt.plot(fpr, tpr, color='black', alpha=1, lw=2, linestyle='-',label='Support Vector Machine ( AUC = %0.2f)' % roc_auc) \n",
    "\n",
    "plt.plot([0, 1], [0, 1], linestyle='--', lw=1, color='gray', alpha=1)\n",
    "#plt.fill_between(mean_fpr, tprs_lower, tprs_upper, color='grey', alpha=.2,label=r'$\\pm$ 1 std. dev.')\n",
    "#plt.xlim([-0, 1])\n",
    "#plt.ylim([-0, 1])\n",
    "plt.xlabel('1-Specificity', fontsize = 'x-large')\n",
    "plt.ylabel('Sensitivity', fontsize = 'x-large')\n",
    "#plt.title('Receiver operating characteristic example')\n",
    "plt.legend(loc=\"lower right\" ,\n",
    "           fontsize = 'x-large'\n",
    "          )\n",
    "#plt.savefig('B-RFE-ROC3.jpg',dpi=1200)\n",
    "plt.show()"
   ]
  },
  {
   "cell_type": "markdown",
   "metadata": {},
   "source": [
    "## Modeling and Test"
   ]
  },
  {
   "cell_type": "code",
   "execution_count": 23,
   "metadata": {},
   "outputs": [
    {
     "data": {
      "image/png": "[encoded data removed]",
      "text/plain": [
       "<Figure size 576x576 with 1 Axes>"
      ]
     },
     "metadata": {
      "needs_background": "light"
     },
     "output_type": "display_data"
    }
   ],
   "source": [
    "model = svm.SVC(probability=True, random_state=1)\n",
    "\n",
    "matplotlib.rcParams['figure.figsize'] = (8.0, 8.0)\n",
    "cv = model_selection.ShuffleSplit(n_splits = 4, test_size = 0.25, random_state = 1)\n",
    "tprs = []\n",
    "aucs = []\n",
    "mean_fpr = np.linspace(0, 1, 100)\n",
    "i = 0\n",
    "plt.xticks(np.arange(0, 1.1, step=0.1))\n",
    "plt.yticks(np.arange(0, 1.1, step=0.1))\n",
    "\n",
    "for train, test in cv.split(X2, y2):\n",
    "    probas_ = model.fit(X2[train], y2[train]).predict_proba(X2[test])\n",
    "    # Compute ROC curve and area the curve\n",
    "    fpr, tpr, thresholds = roc_curve(y2[test], probas_[:, 1])\n",
    "    tprs.append(interp(mean_fpr, fpr, tpr))\n",
    "    tprs[-1][0] = 0.0\n",
    "    roc_auc = auc(fpr, tpr)\n",
    "    #optimal_th, optimal_point = Find_Optimal_Cutoff(TPR=tpr, FPR=fpr, threshold=thresholds) ###\n",
    "    aucs.append(roc_auc)\n",
    "    plt.plot(fpr, tpr, lw=1, alpha=0.6,label='ROC fold %d (AUC = %0.2f)' % (i, roc_auc))\n",
    "    i += 1\n",
    "plt.fill_between(mean_fpr, tprs_lower, tprs_upper, color='grey', alpha=.2,label=r'$\\pm$ 1 std. dev.')\n",
    "plt.plot([0, 1], [0, 1], linestyle='--', lw=1, color='gray', alpha=1)\n",
    "mean_tpr = np.mean(tprs, axis=0)\n",
    "mean_tpr[-1] = 1.0\n",
    "mean_auc = auc(mean_fpr, mean_tpr)\n",
    "#optimal_th, optimal_point = Find_Optimal_Cutoff(TPR=mean_tpr, mean_fpr, threshold=thresholds)\n",
    "std_auc = np.std(aucs)\n",
    "plt.plot(mean_fpr, mean_tpr, color='b',label=r'mean ROC (AUC = %0.2f $\\pm$ %0.2f)' % (mean_auc, std_auc),lw=2)\n",
    "std_tpr = np.std(tprs, axis=0)\n",
    "tprs_upper = np.minimum(mean_tpr + std_tpr, 1)\n",
    "tprs_lower = np.maximum(mean_tpr - std_tpr, 0)\n",
    "\n",
    "plt.xlabel('1-Specificity', fontsize = 'x-large')\n",
    "plt.ylabel('Sensitivity', fontsize = 'x-large')\n",
    "#plt.title('Receiver operating characteristic example')\n",
    "plt.legend(loc=\"lower right\" ,\n",
    "           fontsize = 'x-large'\n",
    "          )\n",
    "#plt.plot(optimal_point[0], optimal_point[1], marker='o', color='r')\n",
    "#plt.text(optimal_point[0], optimal_point[1], f'Threshold:{optimal_th:.2f}')\n",
    "\n",
    "#plt.savefig('com-ROC3.jpg',dpi=1200)\n",
    "plt.show()"
   ]
  },
  {
   "cell_type": "code",
   "execution_count": 24,
   "metadata": {},
   "outputs": [
    {
     "data": {
      "image/png": "[encoded data removed]",
      "text/plain": [
       "<Figure size 576x576 with 1 Axes>"
      ]
     },
     "metadata": {
      "needs_background": "light"
     },
     "output_type": "display_data"
    }
   ],
   "source": [
    "tprs = []\n",
    "aucs = []\n",
    "mean_fpr = np.linspace(0, 1, 100)\n",
    "i = 0\n",
    "plt.xticks(np.arange(0, 1.1, step=0.1))\n",
    "plt.yticks(np.arange(0, 1.1, step=0.1))\n",
    "probas_ = model.predict_proba(X1)\n",
    "fpr, tpr, thresholds = roc_curve(y1, probas_[:, 1])\n",
    "fpr=fpr\n",
    "tpr=tpr\n",
    "roc_auc = auc(fpr, tpr)\n",
    "aucs.append(roc_auc)\n",
    "#plt.plot(fpr, tpr, lw=1, alpha=0.3,label='ROC fold %d (AUC = %0.2f)' % (i, roc_auc))\n",
    "plt.plot(fpr, tpr, color='blue', alpha=1, lw=2, linestyle='-',label='Train ROC (AUC = %0.2f)' % roc_auc) \n",
    "#plt.plot([0, 1], [0, 1], color='gray', lw=1, linestyle='--',alpha=.6)\n",
    "#plt.plot([0, 1], [0, 1], linestyle='--', lw=1, color='gray', alpha=1)\n",
    "\n",
    "probas_ = model.predict_proba(X3)\n",
    "fpr, tpr, thresholds = roc_curve(y3, probas_[:, 1])\n",
    "fpr=fpr\n",
    "tpr=tpr\n",
    "roc_auc = auc(fpr, tpr)\n",
    "aucs.append(roc_auc)\n",
    "#plt.plot(fpr, tpr, lw=1, alpha=0.3,label='ROC fold %d (AUC = %0.2f)' % (i, roc_auc))\n",
    "plt.plot(fpr, tpr, color='green', alpha=1, lw=2, linestyle='-',label='Test ROC (AUC = %0.2f)' % roc_auc) \n",
    "#plt.plot([0, 1], [0, 1], color='gray', lw=1, linestyle='--',alpha=.6)\n",
    "plt.plot([0, 1], [0, 1], linestyle='--', lw=1, color='gray', alpha=1)\n",
    "\n",
    "#plt.fill_between(mean_fpr, tprs_lower, tprs_upper, color='grey', alpha=.2,label=r'$\\pm$ 1 std. dev.')\n",
    "#plt.xlim([-0, 1])\n",
    "#plt.ylim([-0, 1])\n",
    "plt.xlabel('1-Specificity', fontsize = 'x-large')\n",
    "plt.ylabel('Sensitivity', fontsize = 'x-large')\n",
    "#plt.title('Receiver operating characteristic example')\n",
    "plt.legend(loc=\"lower right\" ,\n",
    "           fontsize = 'x-large'\n",
    "          )\n",
    "#plt.savefig('com-ROC4.jpg',dpi=1200)\n",
    "plt.show()"
   ]
  },
  {
   "cell_type": "code",
   "execution_count": 33,
   "metadata": {},
   "outputs": [
    {
     "data": {
      "image/png": "[encoded data removed]",
      "text/plain": [
       "<Figure size 576x576 with 1 Axes>"
      ]
     },
     "metadata": {
      "needs_background": "light"
     },
     "output_type": "display_data"
    }
   ],
   "source": [
    "tprs = []\n",
    "aucs = []\n",
    "mean_fpr = np.linspace(0, 1, 100)\n",
    "i = 0\n",
    "plt.xticks(np.arange(0, 1.1, step=0.1))\n",
    "plt.yticks(np.arange(0, 1.1, step=0.1))\n",
    "probas_ = model.predict_proba(X0)\n",
    "fpr, tpr, thresholds = roc_curve(y0, probas_[:, 1])\n",
    "fpr=fpr\n",
    "tpr=tpr\n",
    "roc_auc = auc(fpr, tpr)\n",
    "aucs.append(roc_auc)\n",
    "#plt.plot(fpr, tpr, lw=1, alpha=0.3,label='ROC fold %d (AUC = %0.2f)' % (i, roc_auc))\n",
    "plt.plot(fpr, tpr, color='blue', alpha=1, lw=2, linestyle='-',label='ROC (AUC = %0.2f)' % roc_auc) \n",
    "plt.plot([0, 1], [0, 1], linestyle='--', lw=1, color='gray', alpha=1)\n",
    "plt.xlabel('1-Specificity', fontsize = 'x-large')\n",
    "plt.ylabel('Sensitivity', fontsize = 'x-large')\n",
    "#plt.title('Receiver operating characteristic example')\n",
    "plt.legend(loc=\"lower right\" ,\n",
    "           fontsize = 'x-large'\n",
    "          )\n",
    "#plt.savefig('ROC4-new.jpg',dpi=1200)\n",
    "plt.show()"
   ]
  },
  {
   "cell_type": "code",
   "execution_count": 26,
   "metadata": {},
   "outputs": [
    {
     "data": {
      "text/html": [
       "<div>\n",
       "<style scoped>\n",
       "    .dataframe tbody tr th:only-of-type {\n",
       "        vertical-align: middle;\n",
       "    }\n",
       "\n",
       "    .dataframe tbody tr th {\n",
       "        vertical-align: top;\n",
       "    }\n",
       "\n",
       "    .dataframe thead th {\n",
       "        text-align: right;\n",
       "    }\n",
       "</style>\n",
       "<table border=\"1\" class=\"dataframe\">\n",
       "  <thead>\n",
       "    <tr style=\"text-align: right;\">\n",
       "      <th>Actual</th>\n",
       "      <th>0</th>\n",
       "      <th>1</th>\n",
       "    </tr>\n",
       "    <tr>\n",
       "      <th>Predicted</th>\n",
       "      <th></th>\n",
       "      <th></th>\n",
       "    </tr>\n",
       "  </thead>\n",
       "  <tbody>\n",
       "    <tr>\n",
       "      <th>0</th>\n",
       "      <td>55</td>\n",
       "      <td>1</td>\n",
       "    </tr>\n",
       "    <tr>\n",
       "      <th>1</th>\n",
       "      <td>6</td>\n",
       "      <td>14</td>\n",
       "    </tr>\n",
       "  </tbody>\n",
       "</table>\n",
       "</div>"
      ],
      "text/plain": [
       "Actual      0   1\n",
       "Predicted        \n",
       "0          55   1\n",
       "1           6  14"
      ]
     },
     "execution_count": 26,
     "metadata": {},
     "output_type": "execute_result"
    }
   ],
   "source": [
    "Y1_Pred = model.predict(X1)\n",
    "pd.crosstab(pd.Series(Y1_Pred, name = 'Predicted'), \n",
    "            pd.Series(df['End'], name = 'Actual'))"
   ]
  },
  {
   "cell_type": "code",
   "execution_count": 27,
   "metadata": {},
   "outputs": [
    {
     "data": {
      "text/html": [
       "<div>\n",
       "<style scoped>\n",
       "    .dataframe tbody tr th:only-of-type {\n",
       "        vertical-align: middle;\n",
       "    }\n",
       "\n",
       "    .dataframe tbody tr th {\n",
       "        vertical-align: top;\n",
       "    }\n",
       "\n",
       "    .dataframe thead th {\n",
       "        text-align: right;\n",
       "    }\n",
       "</style>\n",
       "<table border=\"1\" class=\"dataframe\">\n",
       "  <thead>\n",
       "    <tr style=\"text-align: right;\">\n",
       "      <th>Actual</th>\n",
       "      <th>0</th>\n",
       "      <th>1</th>\n",
       "    </tr>\n",
       "    <tr>\n",
       "      <th>Predicted</th>\n",
       "      <th></th>\n",
       "      <th></th>\n",
       "    </tr>\n",
       "  </thead>\n",
       "  <tbody>\n",
       "    <tr>\n",
       "      <th>0</th>\n",
       "      <td>12</td>\n",
       "      <td>3</td>\n",
       "    </tr>\n",
       "    <tr>\n",
       "      <th>1</th>\n",
       "      <td>2</td>\n",
       "      <td>3</td>\n",
       "    </tr>\n",
       "  </tbody>\n",
       "</table>\n",
       "</div>"
      ],
      "text/plain": [
       "Actual      0  1\n",
       "Predicted       \n",
       "0          12  3\n",
       "1           2  3"
      ]
     },
     "execution_count": 27,
     "metadata": {},
     "output_type": "execute_result"
    }
   ],
   "source": [
    "Y3_Pred = model.predict(X3)\n",
    "pd.crosstab(pd.Series(Y3_Pred, name = 'Predicted'), \n",
    "            pd.Series(df1['End'], name = 'Actual'))"
   ]
  },
  {
   "cell_type": "code",
   "execution_count": 28,
   "metadata": {},
   "outputs": [
    {
     "data": {
      "text/html": [
       "<div>\n",
       "<style scoped>\n",
       "    .dataframe tbody tr th:only-of-type {\n",
       "        vertical-align: middle;\n",
       "    }\n",
       "\n",
       "    .dataframe tbody tr th {\n",
       "        vertical-align: top;\n",
       "    }\n",
       "\n",
       "    .dataframe thead th {\n",
       "        text-align: right;\n",
       "    }\n",
       "</style>\n",
       "<table border=\"1\" class=\"dataframe\">\n",
       "  <thead>\n",
       "    <tr style=\"text-align: right;\">\n",
       "      <th>Actual</th>\n",
       "      <th>0</th>\n",
       "      <th>1</th>\n",
       "    </tr>\n",
       "    <tr>\n",
       "      <th>Predicted</th>\n",
       "      <th></th>\n",
       "      <th></th>\n",
       "    </tr>\n",
       "  </thead>\n",
       "  <tbody>\n",
       "    <tr>\n",
       "      <th>0</th>\n",
       "      <td>67</td>\n",
       "      <td>4</td>\n",
       "    </tr>\n",
       "    <tr>\n",
       "      <th>1</th>\n",
       "      <td>8</td>\n",
       "      <td>17</td>\n",
       "    </tr>\n",
       "  </tbody>\n",
       "</table>\n",
       "</div>"
      ],
      "text/plain": [
       "Actual      0   1\n",
       "Predicted        \n",
       "0          67   4\n",
       "1           8  17"
      ]
     },
     "execution_count": 28,
     "metadata": {},
     "output_type": "execute_result"
    }
   ],
   "source": [
    "Y0_Pred = model.predict(X0)\n",
    "pd.crosstab(pd.Series(Y0_Pred, name = 'Predicted'), \n",
    "            pd.Series(df2['End'], name = 'Actual'))"
   ]
  },
  {
   "cell_type": "code",
   "execution_count": 29,
   "metadata": {},
   "outputs": [
    {
     "name": "stdout",
     "output_type": "stream",
     "text": [
      "Accuracy =  0.9078947368421053\n",
      "Precision =  0.7\n",
      "Recall =  0.9333333333333333\n",
      "F1 Score =  0.8\n"
     ]
    }
   ],
   "source": [
    "from sklearn.metrics import accuracy_score\n",
    "from sklearn.metrics import precision_score, recall_score\n",
    "from sklearn.metrics import f1_score, roc_auc_score, roc_curve\n",
    "\n",
    "print(\"Accuracy = \" , accuracy_score(y1, Y1_Pred))\n",
    "print(\"Precision = \" ,precision_score(y1, Y1_Pred))\n",
    "print(\"Recall = \" ,recall_score(y1, Y1_Pred))\n",
    "print(\"F1 Score = \" ,f1_score(y1, Y1_Pred))"
   ]
  },
  {
   "cell_type": "code",
   "execution_count": 30,
   "metadata": {},
   "outputs": [
    {
     "name": "stdout",
     "output_type": "stream",
     "text": [
      "Accuracy =  0.75\n",
      "Precision =  0.6\n",
      "Recall =  0.5\n",
      "F1 Score =  0.5454545454545454\n"
     ]
    }
   ],
   "source": [
    "print(\"Accuracy = \" , accuracy_score(y3, Y3_Pred))\n",
    "print(\"Precision = \" ,precision_score(y3, Y3_Pred))\n",
    "print(\"Recall = \" ,recall_score(y3, Y3_Pred))\n",
    "print(\"F1 Score = \" ,f1_score(y3, Y3_Pred))"
   ]
  },
  {
   "cell_type": "code",
   "execution_count": 31,
   "metadata": {},
   "outputs": [
    {
     "name": "stdout",
     "output_type": "stream",
     "text": [
      "Accuracy =  0.875\n",
      "Precision =  0.68\n",
      "Recall =  0.8095238095238095\n",
      "F1 Score =  0.7391304347826089\n"
     ]
    }
   ],
   "source": [
    "print(\"Accuracy = \" , accuracy_score(y0, Y0_Pred))\n",
    "print(\"Precision = \" ,precision_score(y0, Y0_Pred))\n",
    "print(\"Recall = \" ,recall_score(y0, Y0_Pred))\n",
    "print(\"F1 Score = \" ,f1_score(y0, Y0_Pred))"
   ]
  },
  {
   "cell_type": "code",
   "execution_count": 32,
   "metadata": {},
   "outputs": [
    {
     "data": {
      "text/plain": [
       "array([[0.97994445, 0.02005555],\n",
       "       [0.43466638, 0.56533362],\n",
       "       [0.21493107, 0.78506893],\n",
       "       [0.10673822, 0.89326178],\n",
       "       [0.81525267, 0.18474733],\n",
       "       [0.73733299, 0.26266701],\n",
       "       [0.99289393, 0.00710607],\n",
       "       [0.1103694 , 0.8896306 ],\n",
       "       [0.97995558, 0.02004442],\n",
       "       [0.5       , 0.5       ],\n",
       "       [0.09097183, 0.90902817],\n",
       "       [0.97994004, 0.02005996],\n",
       "       [0.97995445, 0.02004555],\n",
       "       [0.61313251, 0.38686749],\n",
       "       [0.98140665, 0.01859335],\n",
       "       [0.97993886, 0.02006114],\n",
       "       [0.0663211 , 0.9336789 ],\n",
       "       [0.98931597, 0.01068403],\n",
       "       [0.97997103, 0.02002897],\n",
       "       [0.0658171 , 0.9341829 ],\n",
       "       [0.92347932, 0.07652068],\n",
       "       [0.95498772, 0.04501228],\n",
       "       [0.35263698, 0.64736302],\n",
       "       [0.08449822, 0.91550178],\n",
       "       [0.97995262, 0.02004738],\n",
       "       [0.94170124, 0.05829876],\n",
       "       [0.95491569, 0.04508431],\n",
       "       [0.77469712, 0.22530288],\n",
       "       [0.41623406, 0.58376594],\n",
       "       [0.07204661, 0.92795339],\n",
       "       [0.97994249, 0.02005751],\n",
       "       [0.97997131, 0.02002869],\n",
       "       [0.97994647, 0.02005353],\n",
       "       [0.59321883, 0.40678117],\n",
       "       [0.37342715, 0.62657285],\n",
       "       [0.98842204, 0.01157796],\n",
       "       [0.96001489, 0.03998511],\n",
       "       [0.82578073, 0.17421927],\n",
       "       [0.97996583, 0.02003417],\n",
       "       [0.17929744, 0.82070256],\n",
       "       [0.06481032, 0.93518968],\n",
       "       [0.91478126, 0.08521874],\n",
       "       [0.98067956, 0.01932044],\n",
       "       [0.96220777, 0.03779223],\n",
       "       [0.97995781, 0.02004219],\n",
       "       [0.97995718, 0.02004282],\n",
       "       [0.19583056, 0.80416944],\n",
       "       [0.97997152, 0.02002848],\n",
       "       [0.93071921, 0.06928079],\n",
       "       [0.97996803, 0.02003197],\n",
       "       [0.91335862, 0.08664138],\n",
       "       [0.93387613, 0.06612387],\n",
       "       [0.89183801, 0.10816199],\n",
       "       [0.22053879, 0.77946121],\n",
       "       [0.97328966, 0.02671034],\n",
       "       [0.64905993, 0.35094007],\n",
       "       [0.9894842 , 0.0105158 ],\n",
       "       [0.98147037, 0.01852963],\n",
       "       [0.97632837, 0.02367163],\n",
       "       [0.97992958, 0.02007042],\n",
       "       [0.07520216, 0.92479784],\n",
       "       [0.98566312, 0.01433688],\n",
       "       [0.06482547, 0.93517453],\n",
       "       [0.9258247 , 0.0741753 ],\n",
       "       [0.98677035, 0.01322965],\n",
       "       [0.80651799, 0.19348201],\n",
       "       [0.06479217, 0.93520783],\n",
       "       [0.9799704 , 0.0200296 ],\n",
       "       [0.93689793, 0.06310207],\n",
       "       [0.35595543, 0.64404457],\n",
       "       [0.99594607, 0.00405393],\n",
       "       [0.97993   , 0.02007   ],\n",
       "       [0.98970962, 0.01029038],\n",
       "       [0.97525183, 0.02474817],\n",
       "       [0.98784227, 0.01215773],\n",
       "       [0.98970286, 0.01029714],\n",
       "       [0.67664979, 0.32335021],\n",
       "       [0.85632039, 0.14367961],\n",
       "       [0.69056842, 0.30943158],\n",
       "       [0.94076332, 0.05923668],\n",
       "       [0.90606641, 0.09393359],\n",
       "       [0.94837382, 0.05162618],\n",
       "       [0.97996784, 0.02003216],\n",
       "       [0.99136492, 0.00863508],\n",
       "       [0.97992464, 0.02007536],\n",
       "       [0.06481839, 0.93518161],\n",
       "       [0.56298979, 0.43701021],\n",
       "       [0.97997049, 0.02002951],\n",
       "       [0.8505149 , 0.1494851 ],\n",
       "       [0.98099901, 0.01900099],\n",
       "       [0.97997803, 0.02002197],\n",
       "       [0.97580069, 0.02419931],\n",
       "       [0.99528329, 0.00471671],\n",
       "       [0.9291628 , 0.0708372 ],\n",
       "       [0.97994049, 0.02005951],\n",
       "       [0.9284969 , 0.0715031 ]])"
      ]
     },
     "execution_count": 32,
     "metadata": {},
     "output_type": "execute_result"
    }
   ],
   "source": [
    "predictions = model.predict_proba(X0)\n",
    "predictions"
   ]
  },
  {
   "cell_type": "code",
   "execution_count": 36,
   "metadata": {},
   "outputs": [],
   "source": [
    "pre_df = pd.DataFrame(predictions)\n",
    "writer = pd.ExcelWriter('combine_pre.xlsx')\n",
    "pre_df.to_excel(writer,'page_1',float_format='%.5f')\n",
    "writer.save() "
   ]
  },
  {
   "cell_type": "code",
   "execution_count": null,
   "metadata": {},
   "outputs": [],
   "source": []
  }
 ],
 "metadata": {
  "kernelspec": {
   "display_name": "Python 36",
   "language": "python",
   "name": "python3"
  },
  "language_info": {
   "codemirror_mode": {
    "name": "ipython",
    "version": 3
   },
   "file_extension": ".py",
   "mimetype": "text/x-python",
   "name": "python",
   "nbconvert_exporter": "python",
   "pygments_lexer": "ipython3",
   "version": "3.6.6rc1"
  }
 },
 "nbformat": 4,
 "nbformat_minor": 2
}
